{
 "cells": [
  {
   "cell_type": "code",
   "execution_count": 2,
   "metadata": {},
   "outputs": [],
   "source": [
    "%matplotlib inline\n",
    "\n",
    "import matplotlib\n",
    "import numpy as np\n",
    "import matplotlib.pyplot as plt\n",
    "\n",
    "\n",
    "import getopt, sys\n",
    "import pandas as pd\n",
    "import numpy as np\n",
    "import qiime2\n",
    "import time\n",
    "\n",
    "from qiime2 import Metadata"
   ]
  },
  {
   "cell_type": "markdown",
   "metadata": {},
   "source": [
    "Created a match_controls_forPlot.py file to make the plots below. It makes changes to file data_plot.csv created below. match_controls_forPlot.py is the same as match_controls.py except for the ability to change data_plot.csv. The only time that should be affected is load since the dataset and conditions are new things that are stored at that phase."
   ]
  },
  {
   "cell_type": "markdown",
   "metadata": {},
   "source": [
    "The file names for match, null, keep, case, and control indicate the conditions. Files with no conditions are the base line. r means range of exeptable samples. L, M, S usually mean Large, Medium, and Small respectivly except when they follow a number. In the case of L a number in front of it indicate how many lines the file is."
   ]
  },
  {
   "cell_type": "markdown",
   "metadata": {},
   "source": [
    "# notes"
   ]
  },
  {
   "cell_type": "code",
   "execution_count": null,
   "metadata": {},
   "outputs": [],
   "source": [
    "compare series not tables \n",
    "clean up headers and parameters\n",
    "look into solving stable marraige bug"
   ]
  },
  {
   "cell_type": "markdown",
   "metadata": {},
   "source": [
    "unknown if     index_header_name = afterExclusion_MD.id_header\n",
    "is still usefull for merging\n",
    "\n",
    "must be in folder with input data to use it in load "
   ]
  },
  {
   "cell_type": "markdown",
   "metadata": {},
   "source": [
    "# stable marriage debugging\n",
    "not all samples are matched properly if two cases have same amount of matches and they overlap."
   ]
  },
  {
   "cell_type": "code",
   "execution_count": 37,
   "metadata": {},
   "outputs": [
    {
     "name": "stdout",
     "output_type": "stream",
     "text": [
      "['14', '16', '11', '18', '19', '7', '9']\n",
      "{'18': ['17'], '16': ['13', '15'], '11': ['12'], '19': ['20'], '9': ['10'], '14': ['15', '17'], '7': ['8']}\n",
      "match 10 to 9\n",
      "{'18': ['17'], '16': ['13', '15'], '11': ['12'], '19': ['20'], '14': ['15', '17'], '7': ['8']}\n",
      "match 8 to 7\n",
      "{'18': ['17'], '16': ['13', '15'], '11': ['12'], '19': ['20'], '14': ['15', '17']}\n",
      "match 20 to 19\n",
      "{'18': ['17'], '16': ['13', '15'], '11': ['12'], '14': ['15', '17']}\n",
      "match 17 to 18\n",
      "{'16': ['13', '15'], '11': ['12'], '14': ['15']}\n",
      "match 15 to 14\n",
      "{'16': ['13'], '11': ['12']}\n",
      "match 13 to 16\n",
      "{'11': ['12']}\n",
      "match 12 to 11\n",
      "stable marriage fails. \n",
      "Output should be {'15': '16', '12': '11', '8': '7', '10': '9', '17': '18', '20': '19'} \n",
      "Output was\n",
      "{'13': '16', '20': '19', '12': '11', '17': '18', '10': '9', '15': '14', '8': '7'}\n",
      "False\n"
     ]
    }
   ],
   "source": [
    "\n",
    "def order_keys(dictionary):\n",
    "    '''\n",
    "    orders the keys of a dictionary so that they can be used properly as the freemen of stable marriage. In order greatest to least since pop is used to get least freeman and pop takes the right most entry. \n",
    "\n",
    "    Parameters\n",
    "    dictionary\n",
    "        dictionary of cases or controls with their matching controls or cases ordered \n",
    "        by rising abundance\n",
    "    \n",
    "    Return\n",
    "    keys_greatest_to_least: list\n",
    "        contains keys in order of greatest to least amount of samples they match to\n",
    "    '''\n",
    "    keys_greatest_to_least = []\n",
    "    for key in dictionary:\n",
    "        if keys_greatest_to_least == [] and len(dictionary[key])!=0:\n",
    "            keys_greatest_to_least.append(key)\n",
    "            continue\n",
    "        abundance_of_key_values = len(dictionary[key])\n",
    "        index = 0\n",
    "        for list_key in keys_greatest_to_least:\n",
    "            abundance_of_list_key_values = len(dictionary[list_key])\n",
    "            \n",
    "            if abundance_of_key_values > abundance_of_list_key_values:\n",
    "                keys_greatest_to_least.insert(index, key)\n",
    "                break\n",
    "            if abundance_of_key_values == abundance_of_list_key_values:\n",
    "                    if list_key >= key:\n",
    "                        keys_greatest_to_least.insert(index, key)\n",
    "                        break\n",
    "            index = index + 1\n",
    "        if index == len(keys_greatest_to_least):\n",
    "            keys_greatest_to_least.append(key)\n",
    "\n",
    "    return keys_greatest_to_least\n",
    "\n",
    "def stable_marriage(case_dictionary, pref_counts_cont, pref_counts_case):\n",
    "    #first make master copy\n",
    "    master_copy_of_case_dict = case_dictionary.copy()\n",
    "    #cut out keys in case_dictionary that have no possible matches\n",
    "    list_of_keys = []\n",
    "    for key in case_dictionary:\n",
    "        list_of_keys.append(key)\n",
    "    for key in list_of_keys:\n",
    "        if len(case_dictionary[key])==0:\n",
    "            case_dictionary.pop(key,None)\n",
    "    \n",
    "    free_keys = order_keys(case_dictionary)\n",
    "    for key in free_keys:\n",
    "        if pref_counts_case[key]==0:\n",
    "            case_dictionary.pop(key,None)\n",
    "            \n",
    "            \n",
    "    print(free_keys)\n",
    "    one_to_one_match_dictionary = {}\n",
    "    while free_keys :\n",
    "        key = free_keys.pop()\n",
    "        #print(key)\n",
    "        print(case_dictionary)\n",
    "        if case_dictionary[key]==[]:\n",
    "            continue\n",
    "        #get the highest ranked woman that has not yet been proposed to\n",
    "        entry = case_dictionary[key].pop()\n",
    "        #print(case_dictionary)\n",
    "                \n",
    "        if entry not in one_to_one_match_dictionary: \n",
    "            one_to_one_match_dictionary[entry] = key\n",
    "            #remove key to reorder but this my not be the best if a switch is needed later\n",
    "            if case_dictionary[key]==[]:\n",
    "                case_dictionary.pop(key,None)\n",
    "            for case_key in case_dictionary:\n",
    "                if entry in case_dictionary[case_key]:\n",
    "                    case_dictionary[case_key].remove(entry)\n",
    "                    if case_dictionary[case_key] == []:\n",
    "                        case_dictionary[case_key] = []\n",
    "            #reorder keys\n",
    "            free_keys = order_keys(case_dictionary)\n",
    "            print(\"match %s to %s\"%(entry,key))\n",
    "            \n",
    "        else:\n",
    "            print(\"switch needed for key %s and entry %s\"%(key,entry))\n",
    "            key_in_use = one_to_one_match_dictionary [entry]\n",
    "            if pref_counts_case[key] < pref_counts_case[key_in_use]:\n",
    "                one_to_one_match_dictionary[entry] = key\n",
    "                free_keys.append(key_in_use)\n",
    "            else:\n",
    "                free_keys.append(key)\n",
    "                \n",
    "    return one_to_one_match_dictionary\n",
    "\n",
    "def test_stable_marriage():\n",
    "    case_dictionary = {'14': ['15', '17'], '25': [], '19': ['20'], '21':[], '6': [], '9': ['10'], '3': [], '7': ['8'], \n",
    "                       '18': ['17'], '23': [], '16': ['13', '15'], '27': [], '11': ['12']}\n",
    "    control_match_count_dictionary = {'10': 1, '15': 2, '17': 2, '12': 1, '8': 1, '20': 1, '13': 1}\n",
    "    case_match_count_dictionary = {'23': 0, '6': 0, '14': 2, '21': 0, '16': 2, '11': 1, '19': 1, '9': 1, '27': 0, '7': 1,\n",
    "                                   '3': 0, '25': 0, '18': 1}\n",
    "\n",
    "    case_to_control_match = stable_marriage(case_dictionary, control_match_count_dictionary, case_match_count_dictionary)\n",
    "    test_output  = {'15': '16', '12': '11', '8': '7', '10': '9', '17': '18', '20': '19'}\n",
    "    if case_to_control_match != test_output:\n",
    "        print(\"stable marriage fails. \\nOutput should be {'15': '16', '12': '11', '8': '7', '10': '9', '17': '18', '20': '19'} \\nOutput was\")\n",
    "        print(case_to_control_match)\n",
    "        \n",
    "        return False\n",
    "    return True\n",
    "print(test_stable_marriage())"
   ]
  },
  {
   "cell_type": "code",
   "execution_count": 36,
   "metadata": {},
   "outputs": [
    {
     "data": {
      "text/plain": [
       "{'key_1': ['b', 'c', 'd', 'e', 'a'],\n",
       " 'key_2': ['g', 'f', 'a'],\n",
       " 'key_3': ['c', 'f', 'e', 'e', 'a'],\n",
       " 'key_4': ['d', 'a']}"
      ]
     },
     "execution_count": 36,
     "metadata": {},
     "output_type": "execute_result"
    }
   ],
   "source": [
    "test_unorderedDict = {'key_1':['a','d','b','e','c'], 'key_2':['a','f','g',],  'key_3':['f','e','e','c','a'], \n",
    "                      'key_4':['a', 'd']}\n",
    "test_frequencies = {'a':4,'b':1,'c':2,'d':2,'e':3, 'f':2 , 'g':1}\n",
    "for k in test_unorderedDict:\n",
    "    test_unorderedDict[k] = sorted(test_unorderedDict[k])\n",
    "    test_unorderedDict[k] = sorted(test_unorderedDict[k], key = lambda x:test_frequencies[x] ) \n",
    "#, key=lambda x: len (test_unorderedDict[x])\n",
    "  \n",
    "test_unorderedDict"
   ]
  },
  {
   "cell_type": "code",
   "execution_count": 37,
   "metadata": {},
   "outputs": [
    {
     "data": {
      "text/plain": [
       "['5', '4', '3', '2', '1']"
      ]
     },
     "execution_count": 37,
     "metadata": {},
     "output_type": "execute_result"
    }
   ],
   "source": [
    "test_unorderedDictLen={'2':['a','b'], '1':['a'],  '3':['a','b','c'],  '5':['a','b','c','d','e'], '4':['a','b','c','d']}\n",
    "\n",
    "order = sorted(test_unorderedDictLen, key=lambda x: len(test_unorderedDictLen[x]), reverse=True)\n",
    "  \n",
    "order"
   ]
  },
  {
   "cell_type": "markdown",
   "metadata": {},
   "source": [
    "old entry ordering\n"
   ]
  },
  {
   "cell_type": "code",
   "execution_count": null,
   "metadata": {},
   "outputs": [],
   "source": [
    "dictionary_to_return = dictionary.copy()\n",
    "    for key in dictionary_to_return:\n",
    "        unordered_array = dictionary_to_return[key]\n",
    "        if len(unordered_array) == 0:\n",
    "            continue\n",
    "        #ordered_array will store the elements linked to key in their proper order\n",
    "        ordered_array = []\n",
    "        count = 0\n",
    "        while count < len(unordered_array):\n",
    "            value = unordered_array[count]\n",
    "            index = 0 #this index is for going through when sorting\n",
    "            while index < len(ordered_array):\n",
    "                ordered_value = ordered_array[index]\n",
    "                if value_frequency[ordered_value] > value_frequency[value]:\n",
    "                    ordered_array.insert(index,value)\n",
    "                    break\n",
    "                if value_frequency[ordered_value] == value_frequency[value]:\n",
    "                    if ordered_value >= value:\n",
    "                        ordered_array.insert(index,value)\n",
    "                        break\n",
    "                index = index + 1\n",
    "            if index == len(ordered_array):\n",
    "                ordered_array.insert(index,value)\n",
    "\n",
    "            count = count + 1\n",
    "        #overrides the unordered array linked to key with its ordered array\n",
    "        dictionary_to_return[key] = ordered_array"
   ]
  },
  {
   "cell_type": "markdown",
   "metadata": {},
   "source": [
    "old sorting"
   ]
  },
  {
   "cell_type": "code",
   "execution_count": null,
   "metadata": {},
   "outputs": [],
   "source": [
    "for key in dictionary:\n",
    "        if keys_greatest_to_least == []:\n",
    "            keys_greatest_to_least.append(key)\n",
    "            continue\n",
    "        abundance_of_key_values = len(dictionary[key])\n",
    "        index = 0\n",
    "        for list_key in keys_greatest_to_least:\n",
    "            abundance_of_list_key_values = len(dictionary[list_key])\n",
    "            if abundance_of_key_values > abundance_of_list_key_values:\n",
    "                keys_greatest_to_least.insert(index, key)\n",
    "                break\n",
    "            if abundance_of_key_values == abundance_of_list_key_values:\n",
    "                    if list_key >= key:\n",
    "                        keys_greatest_to_least.insert(index, key)\n",
    "                        break\n",
    "            index = index + 1\n",
    "        if index == len(keys_greatest_to_least):\n",
    "            keys_greatest_to_least.append(key)"
   ]
  },
  {
   "cell_type": "code",
   "execution_count": 11,
   "metadata": {},
   "outputs": [],
   "source": [
    "csvdata_match = pd.read_csv('./unitTest_files/unit_output.csv', sep = '\\t' )\n",
    "csvdata_match['id'] = csvdata_match['id'].astype('object')\n",
    "#print( csvdata_match['id'] )\n",
    "csvdata_match = csvdata_match.set_index('id').astype('object')\n",
    "csvdata_match.index = csvdata_match.index.map(str)"
   ]
  },
  {
   "cell_type": "code",
   "execution_count": null,
   "metadata": {},
   "outputs": [],
   "source": [
    "def merge_case_controlDF_and_afterExclutionMD(afterExclusion_MD, case_controlDF):\n",
    "    '''\n",
    "    Combines case_controlDF with afterExclution_MD and returns it as a metadata object\n",
    "    \n",
    "    Parameters\n",
    "    ----------\n",
    "    afterExclusion_MD : Metadata object\n",
    "        Metadata object with unwanted samples filtered out\n",
    "        \n",
    "    case_controlDF : dataframe\n",
    "        dataframe with one column named case_control. The indexs are the same as the indexs of afterExclution_MD  \n",
    "        values reflect if the index is a case, control, or Undefined\n",
    "        \n",
    "    Returns\n",
    "    -------\n",
    "    Metadata(returnedMD) : Metadata object\n",
    "        Metadata object with unwanted samples filtered out and a case_control column that reflects if the index is \n",
    "        a case, control, or Undefined    \n",
    "    '''\n",
    "    #turns case_controlDF into a metadata object\n",
    "    case_controlMD = Metadata( case_controlDF)\n",
    "    \n",
    "    index_header_name = afterExclusion_MD.id_header\n",
    "    #merges afterExclution_MD and case_controlMD into one new metadata object\n",
    "    mergedMD = Metadata.merge(afterExclusion_MD, case_controlMD)\n",
    "\n",
    "    return mergedMD"
   ]
  },
  {
   "cell_type": "code",
   "execution_count": 12,
   "metadata": {},
   "outputs": [
    {
     "data": {
      "text/html": [
       "<div>\n",
       "<style scoped>\n",
       "    .dataframe tbody tr th:only-of-type {\n",
       "        vertical-align: middle;\n",
       "    }\n",
       "\n",
       "    .dataframe tbody tr th {\n",
       "        vertical-align: top;\n",
       "    }\n",
       "\n",
       "    .dataframe thead th {\n",
       "        text-align: right;\n",
       "    }\n",
       "</style>\n",
       "<table border=\"1\" class=\"dataframe\">\n",
       "  <thead>\n",
       "    <tr style=\"text-align: right;\">\n",
       "      <th></th>\n",
       "      <th>dataset</th>\n",
       "      <th>conditions</th>\n",
       "      <th>load</th>\n",
       "      <th>keep</th>\n",
       "      <th>case_control</th>\n",
       "      <th>null_filter</th>\n",
       "      <th>match</th>\n",
       "      <th>total</th>\n",
       "    </tr>\n",
       "    <tr>\n",
       "      <th>id</th>\n",
       "      <th></th>\n",
       "      <th></th>\n",
       "      <th></th>\n",
       "      <th></th>\n",
       "      <th></th>\n",
       "      <th></th>\n",
       "      <th></th>\n",
       "      <th></th>\n",
       "    </tr>\n",
       "  </thead>\n",
       "  <tbody>\n",
       "  </tbody>\n",
       "</table>\n",
       "</div>"
      ],
      "text/plain": [
       "Empty DataFrame\n",
       "Columns: [dataset, conditions, load, keep, case_control, null_filter, match, total]\n",
       "Index: []"
      ]
     },
     "execution_count": 12,
     "metadata": {},
     "output_type": "execute_result"
    }
   ],
   "source": [
    "plotFrame = pd.DataFrame(columns=['dataset','conditions','load','keep','case_control','null_filter','match','total'])\n",
    "plotFrame.index.name = 'id'\n",
    "plotFrame.to_csv('data_plot.csv', sep = '\\t')\n",
    "#plotFrame = plotFrame.append(pd.Series( {'dataset':1, 'conditions':1, 'case_control':(1- 2), 'match':(2- 1), 'total':(2-1), 'null_filter':(2 - 1), 'keep':(2 - 1), 'load':(2 - 1)}).rename('id_value') )\n",
    "plotFrame"
   ]
  },
  {
   "cell_type": "code",
   "execution_count": 13,
   "metadata": {
    "scrolled": false
   },
   "outputs": [
    {
     "name": "stdout",
     "output_type": "stream",
     "text": [
      "time to load input files is 45.919759000000056\n",
      "time to filter out unwanted samples is 9.612818999999945\n",
      "time to get case and control samples 18.791808000000003\n",
      "time to prep Metadata information for match is 25.076257\n",
      "start of stable marriage\n",
      "time to get stable marriage done is 0.006195999999988544\n",
      "time to match is 3.0640530000000012\n",
      "time to do everything 102.46470200000005\n"
     ]
    }
   ],
   "source": [
    "'''\n",
    "this one has 2 lines of conditions for --keep\n",
    "'''\n",
    "%run match_controls_forPlot.py --id ag_base --conditions none -i ag_map_with_alpha.txt --output agp_output.csv -k agp_keep.txt --control agp_control.txt --case=agp_case.txt --nullValues agp_nulls.txt --match agp_match.txt \n"
   ]
  },
  {
   "cell_type": "code",
   "execution_count": 4,
   "metadata": {},
   "outputs": [
    {
     "name": "stdout",
     "output_type": "stream",
     "text": [
      "time to load input files is 44.489442999999994\n",
      "time to filter out unwanted samples is 10.166458000000006\n",
      "time to get case and control samples 10.84742700000001\n",
      "time to prep Metadata information for match is 19.784700999999984\n",
      "start of stable marriage\n",
      "time to get stable marriage done is 0.00856600000000185\n",
      "time to match is 4.426615999999996\n",
      "time to do everything 89.714651\n"
     ]
    }
   ],
   "source": [
    "'''\n",
    "this one has 1 line of conditions for --keep\n",
    "'''\n",
    "%run match_controls_forPlot.py --id ag_1 --conditions keep_1L -i ag_map_with_alpha.txt --output agp_output1.csv -k agp_keep_1L.txt --control agp_control.txt --case=agp_case.txt --nullValues agp_nulls.txt --match agp_match.txt \n"
   ]
  },
  {
   "cell_type": "code",
   "execution_count": 5,
   "metadata": {},
   "outputs": [
    {
     "name": "stdout",
     "output_type": "stream",
     "text": [
      "null query\n",
      "time to load input files is 0.09282699999999977\n",
      "time to filter out unwanted samples is 0.00025100000001998524\n",
      "time to get case and control samples 0.13362799999998742\n",
      "time to prep Metadata information for match is 0.33426900000000614\n",
      "start of stable marriage\n",
      "time to get stable marriage done is 0.00371100000000979\n",
      "time to match is 0.597723000000002\n",
      "time to do everything 1.1587020000000052\n"
     ]
    }
   ],
   "source": [
    "'''\n",
    "base conditions\n",
    "\n",
    "'''\n",
    "\n",
    "%run match_controls_forPlot.py  --id sk_base --conditions none -i sk_hc_merged.txt --nullValues agp_nulls.txt --case skit_case.txt --control skit_control.txt --match skit_match.txt --output sk_output_20.csv \n",
    "\n"
   ]
  },
  {
   "cell_type": "code",
   "execution_count": 6,
   "metadata": {},
   "outputs": [
    {
     "name": "stdout",
     "output_type": "stream",
     "text": [
      "time to load input files is 56.48377099999999\n",
      "time to filter out unwanted samples is 21.400982999999968\n",
      "time to get case and control samples 36.68101200000001\n",
      "time to prep Metadata information for match is 42.078485\n",
      "start of stable marriage\n",
      "time to get stable marriage done is 0.5427549999999997\n",
      "time to match is 19.420631000000014\n",
      "time to do everything 176.06488999999996\n"
     ]
    }
   ],
   "source": [
    "'''\n",
    "this one has 1 line of conditions for --control and --case\n",
    "\n",
    "this one has a medium range in conditions for --keep\n",
    "--match also has a medium range\n",
    "'''\n",
    "\n",
    "%run match_controls_forPlot.py --id ag_2 --conditions keep_rL -i ag_map_with_alpha.txt --output agp_output2.csv -k agp_keep_rL.txt --control agp_control_1L.txt --case=agp_case_1L.txt --nullValues agp_nulls.txt --match agp_match_rM.txt \n"
   ]
  },
  {
   "cell_type": "code",
   "execution_count": 7,
   "metadata": {},
   "outputs": [
    {
     "ename": "MetadataFileError",
     "evalue": "There was an issue with loading the metadata file:\n\nMetadata IDs must be unique. The following IDs are duplicated: '1.79769313486232E+308'\n\nThere may be more errors present in the metadata file. To get a full report, sample/feature metadata files can be validated with Keemei: https://keemei.qiime2.org\n\nFind details on QIIME 2 metadata requirements here: https://docs.qiime2.org/2018.6/tutorials/metadata/",
     "output_type": "error",
     "traceback": [
      "\u001b[0;31m---------------------------------------------------------------------------\u001b[0m",
      "\u001b[0;31mValueError\u001b[0m                                Traceback (most recent call last)",
      "\u001b[0;32m~/anaconda3/envs/qiime2-2018.6/lib/python3.5/site-packages/qiime2/metadata/io.py\u001b[0m in \u001b[0;36mread\u001b[0;34m(self, into, column_types)\u001b[0m\n\u001b[1;32m    112\u001b[0m         \u001b[0;32mtry\u001b[0m\u001b[0;34m:\u001b[0m\u001b[0;34m\u001b[0m\u001b[0m\n\u001b[0;32m--> 113\u001b[0;31m             \u001b[0;32mreturn\u001b[0m \u001b[0minto\u001b[0m\u001b[0;34m(\u001b[0m\u001b[0mdf\u001b[0m\u001b[0;34m)\u001b[0m\u001b[0;34m\u001b[0m\u001b[0m\n\u001b[0m\u001b[1;32m    114\u001b[0m         \u001b[0;32mexcept\u001b[0m \u001b[0mException\u001b[0m \u001b[0;32mas\u001b[0m \u001b[0me\u001b[0m\u001b[0;34m:\u001b[0m\u001b[0;34m\u001b[0m\u001b[0m\n",
      "\u001b[0;32m~/anaconda3/envs/qiime2-2018.6/lib/python3.5/site-packages/qiime2/metadata/metadata.py\u001b[0m in \u001b[0;36m__init__\u001b[0;34m(self, dataframe)\u001b[0m\n\u001b[1;32m    361\u001b[0m \u001b[0;34m\u001b[0m\u001b[0m\n\u001b[0;32m--> 362\u001b[0;31m         \u001b[0msuper\u001b[0m\u001b[0;34m(\u001b[0m\u001b[0;34m)\u001b[0m\u001b[0;34m.\u001b[0m\u001b[0m__init__\u001b[0m\u001b[0;34m(\u001b[0m\u001b[0mdataframe\u001b[0m\u001b[0;34m.\u001b[0m\u001b[0mindex\u001b[0m\u001b[0;34m)\u001b[0m\u001b[0;34m\u001b[0m\u001b[0m\n\u001b[0m\u001b[1;32m    363\u001b[0m \u001b[0;34m\u001b[0m\u001b[0m\n",
      "\u001b[0;32m~/anaconda3/envs/qiime2-2018.6/lib/python3.5/site-packages/qiime2/metadata/metadata.py\u001b[0m in \u001b[0;36m__init__\u001b[0;34m(self, index)\u001b[0m\n\u001b[1;32m     98\u001b[0m \u001b[0;34m\u001b[0m\u001b[0m\n\u001b[0;32m---> 99\u001b[0;31m         \u001b[0mself\u001b[0m\u001b[0;34m.\u001b[0m\u001b[0m_validate_index\u001b[0m\u001b[0;34m(\u001b[0m\u001b[0mindex\u001b[0m\u001b[0;34m,\u001b[0m \u001b[0maxis\u001b[0m\u001b[0;34m=\u001b[0m\u001b[0;34m'id'\u001b[0m\u001b[0;34m)\u001b[0m\u001b[0;34m\u001b[0m\u001b[0m\n\u001b[0m\u001b[1;32m    100\u001b[0m         \u001b[0mself\u001b[0m\u001b[0;34m.\u001b[0m\u001b[0m_ids\u001b[0m \u001b[0;34m=\u001b[0m \u001b[0mtuple\u001b[0m\u001b[0;34m(\u001b[0m\u001b[0mindex\u001b[0m\u001b[0;34m)\u001b[0m\u001b[0;34m\u001b[0m\u001b[0m\n",
      "\u001b[0;32m~/anaconda3/envs/qiime2-2018.6/lib/python3.5/site-packages/qiime2/metadata/metadata.py\u001b[0m in \u001b[0;36m_validate_index\u001b[0;34m(cls, index, axis)\u001b[0m\n\u001b[1;32m    179\u001b[0m                 \u001b[0;34m\"duplicated: %s\"\u001b[0m \u001b[0;34m%\u001b[0m\u001b[0;34m\u001b[0m\u001b[0m\n\u001b[0;32m--> 180\u001b[0;31m                 (label, label, ', '.join(repr(e) for e in sorted(duplicates))))\n\u001b[0m\u001b[1;32m    181\u001b[0m \u001b[0;34m\u001b[0m\u001b[0m\n",
      "\u001b[0;31mValueError\u001b[0m: Metadata IDs must be unique. The following IDs are duplicated: '1.79769313486232E+308'",
      "\nDuring handling of the above exception, another exception occurred:\n",
      "\u001b[0;31mMetadataFileError\u001b[0m                         Traceback (most recent call last)",
      "\u001b[0;32m~/Knight-Lab-public-code/match_controls_forPlot.py\u001b[0m in \u001b[0;36m<module>\u001b[0;34m()\u001b[0m\n\u001b[1;32m    505\u001b[0m     \u001b[0msys\u001b[0m\u001b[0;34m.\u001b[0m\u001b[0mexit\u001b[0m\u001b[0;34m(\u001b[0m\u001b[0;36m2\u001b[0m\u001b[0;34m)\u001b[0m\u001b[0;34m\u001b[0m\u001b[0m\n\u001b[1;32m    506\u001b[0m \u001b[0;31m#read metadata file into metadata object\u001b[0m\u001b[0;34m\u001b[0m\u001b[0;34m\u001b[0m\u001b[0m\n\u001b[0;32m--> 507\u001b[0;31m \u001b[0moriginalMD\u001b[0m \u001b[0;34m=\u001b[0m \u001b[0mMetadata\u001b[0m\u001b[0;34m.\u001b[0m\u001b[0mload\u001b[0m\u001b[0;34m(\u001b[0m \u001b[0mfile_of_metadata\u001b[0m \u001b[0;34m)\u001b[0m\u001b[0;34m\u001b[0m\u001b[0m\n\u001b[0m\u001b[1;32m    508\u001b[0m \u001b[0;34m\u001b[0m\u001b[0m\n\u001b[1;32m    509\u001b[0m \u001b[0;31m#each line is a sqlite query to determine what samples to keep\u001b[0m\u001b[0;34m\u001b[0m\u001b[0;34m\u001b[0m\u001b[0m\n",
      "\u001b[0;32m~/anaconda3/envs/qiime2-2018.6/lib/python3.5/site-packages/qiime2/metadata/metadata.py\u001b[0m in \u001b[0;36mload\u001b[0;34m(cls, filepath, column_types)\u001b[0m\n\u001b[1;32m    313\u001b[0m         \u001b[0;32mfrom\u001b[0m \u001b[0;34m.\u001b[0m\u001b[0mio\u001b[0m \u001b[0;32mimport\u001b[0m \u001b[0mMetadataReader\u001b[0m\u001b[0;34m\u001b[0m\u001b[0m\n\u001b[1;32m    314\u001b[0m         return MetadataReader(filepath).read(into=cls,\n\u001b[0;32m--> 315\u001b[0;31m                                              column_types=column_types)\n\u001b[0m\u001b[1;32m    316\u001b[0m \u001b[0;34m\u001b[0m\u001b[0m\n\u001b[1;32m    317\u001b[0m     \u001b[0;34m@\u001b[0m\u001b[0mproperty\u001b[0m\u001b[0;34m\u001b[0m\u001b[0m\n",
      "\u001b[0;32m~/anaconda3/envs/qiime2-2018.6/lib/python3.5/site-packages/qiime2/metadata/io.py\u001b[0m in \u001b[0;36mread\u001b[0;34m(self, into, column_types)\u001b[0m\n\u001b[1;32m    114\u001b[0m         \u001b[0;32mexcept\u001b[0m \u001b[0mException\u001b[0m \u001b[0;32mas\u001b[0m \u001b[0me\u001b[0m\u001b[0;34m:\u001b[0m\u001b[0;34m\u001b[0m\u001b[0m\n\u001b[1;32m    115\u001b[0m             raise MetadataFileError(\n\u001b[0;32m--> 116\u001b[0;31m                 \"There was an issue with loading the metadata file:\\n\\n%s\" % e)\n\u001b[0m\u001b[1;32m    117\u001b[0m \u001b[0;34m\u001b[0m\u001b[0m\n\u001b[1;32m    118\u001b[0m     \u001b[0;32mdef\u001b[0m \u001b[0m_read_header\u001b[0m\u001b[0;34m(\u001b[0m\u001b[0mself\u001b[0m\u001b[0;34m)\u001b[0m\u001b[0;34m:\u001b[0m\u001b[0;34m\u001b[0m\u001b[0m\n",
      "\u001b[0;31mMetadataFileError\u001b[0m: There was an issue with loading the metadata file:\n\nMetadata IDs must be unique. The following IDs are duplicated: '1.79769313486232E+308'\n\nThere may be more errors present in the metadata file. To get a full report, sample/feature metadata files can be validated with Keemei: https://keemei.qiime2.org\n\nFind details on QIIME 2 metadata requirements here: https://docs.qiime2.org/2018.6/tutorials/metadata/"
     ]
    },
    {
     "ename": "MetadataFileError",
     "evalue": "There was an issue with loading the metadata file:\n\nMetadata IDs must be unique. The following IDs are duplicated: '1.79769313486232E+308'\n\nThere may be more errors present in the metadata file. To get a full report, sample/feature metadata files can be validated with Keemei: https://keemei.qiime2.org\n\nFind details on QIIME 2 metadata requirements here: https://docs.qiime2.org/2018.6/tutorials/metadata/",
     "output_type": "error",
     "traceback": [
      "\u001b[0;31m---------------------------------------------------------------------------\u001b[0m",
      "\u001b[0;31mValueError\u001b[0m                                Traceback (most recent call last)",
      "\u001b[0;32m~/anaconda3/envs/qiime2-2018.6/lib/python3.5/site-packages/qiime2/metadata/io.py\u001b[0m in \u001b[0;36mread\u001b[0;34m(self, into, column_types)\u001b[0m\n\u001b[1;32m    112\u001b[0m         \u001b[0;32mtry\u001b[0m\u001b[0;34m:\u001b[0m\u001b[0;34m\u001b[0m\u001b[0m\n\u001b[0;32m--> 113\u001b[0;31m             \u001b[0;32mreturn\u001b[0m \u001b[0minto\u001b[0m\u001b[0;34m(\u001b[0m\u001b[0mdf\u001b[0m\u001b[0;34m)\u001b[0m\u001b[0;34m\u001b[0m\u001b[0m\n\u001b[0m\u001b[1;32m    114\u001b[0m         \u001b[0;32mexcept\u001b[0m \u001b[0mException\u001b[0m \u001b[0;32mas\u001b[0m \u001b[0me\u001b[0m\u001b[0;34m:\u001b[0m\u001b[0;34m\u001b[0m\u001b[0m\n",
      "\u001b[0;32m~/anaconda3/envs/qiime2-2018.6/lib/python3.5/site-packages/qiime2/metadata/metadata.py\u001b[0m in \u001b[0;36m__init__\u001b[0;34m(self, dataframe)\u001b[0m\n\u001b[1;32m    361\u001b[0m \u001b[0;34m\u001b[0m\u001b[0m\n\u001b[0;32m--> 362\u001b[0;31m         \u001b[0msuper\u001b[0m\u001b[0;34m(\u001b[0m\u001b[0;34m)\u001b[0m\u001b[0;34m.\u001b[0m\u001b[0m__init__\u001b[0m\u001b[0;34m(\u001b[0m\u001b[0mdataframe\u001b[0m\u001b[0;34m.\u001b[0m\u001b[0mindex\u001b[0m\u001b[0;34m)\u001b[0m\u001b[0;34m\u001b[0m\u001b[0m\n\u001b[0m\u001b[1;32m    363\u001b[0m \u001b[0;34m\u001b[0m\u001b[0m\n",
      "\u001b[0;32m~/anaconda3/envs/qiime2-2018.6/lib/python3.5/site-packages/qiime2/metadata/metadata.py\u001b[0m in \u001b[0;36m__init__\u001b[0;34m(self, index)\u001b[0m\n\u001b[1;32m     98\u001b[0m \u001b[0;34m\u001b[0m\u001b[0m\n\u001b[0;32m---> 99\u001b[0;31m         \u001b[0mself\u001b[0m\u001b[0;34m.\u001b[0m\u001b[0m_validate_index\u001b[0m\u001b[0;34m(\u001b[0m\u001b[0mindex\u001b[0m\u001b[0;34m,\u001b[0m \u001b[0maxis\u001b[0m\u001b[0;34m=\u001b[0m\u001b[0;34m'id'\u001b[0m\u001b[0;34m)\u001b[0m\u001b[0;34m\u001b[0m\u001b[0m\n\u001b[0m\u001b[1;32m    100\u001b[0m         \u001b[0mself\u001b[0m\u001b[0;34m.\u001b[0m\u001b[0m_ids\u001b[0m \u001b[0;34m=\u001b[0m \u001b[0mtuple\u001b[0m\u001b[0;34m(\u001b[0m\u001b[0mindex\u001b[0m\u001b[0;34m)\u001b[0m\u001b[0;34m\u001b[0m\u001b[0m\n",
      "\u001b[0;32m~/anaconda3/envs/qiime2-2018.6/lib/python3.5/site-packages/qiime2/metadata/metadata.py\u001b[0m in \u001b[0;36m_validate_index\u001b[0;34m(cls, index, axis)\u001b[0m\n\u001b[1;32m    179\u001b[0m                 \u001b[0;34m\"duplicated: %s\"\u001b[0m \u001b[0;34m%\u001b[0m\u001b[0;34m\u001b[0m\u001b[0m\n\u001b[0;32m--> 180\u001b[0;31m                 (label, label, ', '.join(repr(e) for e in sorted(duplicates))))\n\u001b[0m\u001b[1;32m    181\u001b[0m \u001b[0;34m\u001b[0m\u001b[0m\n",
      "\u001b[0;31mValueError\u001b[0m: Metadata IDs must be unique. The following IDs are duplicated: '1.79769313486232E+308'",
      "\nDuring handling of the above exception, another exception occurred:\n",
      "\u001b[0;31mMetadataFileError\u001b[0m                         Traceback (most recent call last)",
      "\u001b[0;32m~/anaconda3/envs/qiime2-2018.6/lib/python3.5/site-packages/IPython/utils/py3compat.py\u001b[0m in \u001b[0;36mexecfile\u001b[0;34m(fname, glob, loc, compiler)\u001b[0m\n\u001b[1;32m    186\u001b[0m     \u001b[0;32mwith\u001b[0m \u001b[0mopen\u001b[0m\u001b[0;34m(\u001b[0m\u001b[0mfname\u001b[0m\u001b[0;34m,\u001b[0m \u001b[0;34m'rb'\u001b[0m\u001b[0;34m)\u001b[0m \u001b[0;32mas\u001b[0m \u001b[0mf\u001b[0m\u001b[0;34m:\u001b[0m\u001b[0;34m\u001b[0m\u001b[0m\n\u001b[1;32m    187\u001b[0m         \u001b[0mcompiler\u001b[0m \u001b[0;34m=\u001b[0m \u001b[0mcompiler\u001b[0m \u001b[0;32mor\u001b[0m \u001b[0mcompile\u001b[0m\u001b[0;34m\u001b[0m\u001b[0m\n\u001b[0;32m--> 188\u001b[0;31m         \u001b[0mexec\u001b[0m\u001b[0;34m(\u001b[0m\u001b[0mcompiler\u001b[0m\u001b[0;34m(\u001b[0m\u001b[0mf\u001b[0m\u001b[0;34m.\u001b[0m\u001b[0mread\u001b[0m\u001b[0;34m(\u001b[0m\u001b[0;34m)\u001b[0m\u001b[0;34m,\u001b[0m \u001b[0mfname\u001b[0m\u001b[0;34m,\u001b[0m \u001b[0;34m'exec'\u001b[0m\u001b[0;34m)\u001b[0m\u001b[0;34m,\u001b[0m \u001b[0mglob\u001b[0m\u001b[0;34m,\u001b[0m \u001b[0mloc\u001b[0m\u001b[0;34m)\u001b[0m\u001b[0;34m\u001b[0m\u001b[0m\n\u001b[0m\u001b[1;32m    189\u001b[0m \u001b[0;34m\u001b[0m\u001b[0m\n\u001b[1;32m    190\u001b[0m \u001b[0;31m# Refactor print statements in doctests.\u001b[0m\u001b[0;34m\u001b[0m\u001b[0;34m\u001b[0m\u001b[0m\n",
      "\u001b[0;32m~/Knight-Lab-public-code/match_controls_forPlot.py\u001b[0m in \u001b[0;36m<module>\u001b[0;34m()\u001b[0m\n\u001b[1;32m    505\u001b[0m     \u001b[0msys\u001b[0m\u001b[0;34m.\u001b[0m\u001b[0mexit\u001b[0m\u001b[0;34m(\u001b[0m\u001b[0;36m2\u001b[0m\u001b[0;34m)\u001b[0m\u001b[0;34m\u001b[0m\u001b[0m\n\u001b[1;32m    506\u001b[0m \u001b[0;31m#read metadata file into metadata object\u001b[0m\u001b[0;34m\u001b[0m\u001b[0;34m\u001b[0m\u001b[0m\n\u001b[0;32m--> 507\u001b[0;31m \u001b[0moriginalMD\u001b[0m \u001b[0;34m=\u001b[0m \u001b[0mMetadata\u001b[0m\u001b[0;34m.\u001b[0m\u001b[0mload\u001b[0m\u001b[0;34m(\u001b[0m \u001b[0mfile_of_metadata\u001b[0m \u001b[0;34m)\u001b[0m\u001b[0;34m\u001b[0m\u001b[0m\n\u001b[0m\u001b[1;32m    508\u001b[0m \u001b[0;34m\u001b[0m\u001b[0m\n\u001b[1;32m    509\u001b[0m \u001b[0;31m#each line is a sqlite query to determine what samples to keep\u001b[0m\u001b[0;34m\u001b[0m\u001b[0;34m\u001b[0m\u001b[0m\n",
      "\u001b[0;32m~/anaconda3/envs/qiime2-2018.6/lib/python3.5/site-packages/qiime2/metadata/metadata.py\u001b[0m in \u001b[0;36mload\u001b[0;34m(cls, filepath, column_types)\u001b[0m\n\u001b[1;32m    313\u001b[0m         \u001b[0;32mfrom\u001b[0m \u001b[0;34m.\u001b[0m\u001b[0mio\u001b[0m \u001b[0;32mimport\u001b[0m \u001b[0mMetadataReader\u001b[0m\u001b[0;34m\u001b[0m\u001b[0m\n\u001b[1;32m    314\u001b[0m         return MetadataReader(filepath).read(into=cls,\n\u001b[0;32m--> 315\u001b[0;31m                                              column_types=column_types)\n\u001b[0m\u001b[1;32m    316\u001b[0m \u001b[0;34m\u001b[0m\u001b[0m\n\u001b[1;32m    317\u001b[0m     \u001b[0;34m@\u001b[0m\u001b[0mproperty\u001b[0m\u001b[0;34m\u001b[0m\u001b[0m\n",
      "\u001b[0;32m~/anaconda3/envs/qiime2-2018.6/lib/python3.5/site-packages/qiime2/metadata/io.py\u001b[0m in \u001b[0;36mread\u001b[0;34m(self, into, column_types)\u001b[0m\n\u001b[1;32m    114\u001b[0m         \u001b[0;32mexcept\u001b[0m \u001b[0mException\u001b[0m \u001b[0;32mas\u001b[0m \u001b[0me\u001b[0m\u001b[0;34m:\u001b[0m\u001b[0;34m\u001b[0m\u001b[0m\n\u001b[1;32m    115\u001b[0m             raise MetadataFileError(\n\u001b[0;32m--> 116\u001b[0;31m                 \"There was an issue with loading the metadata file:\\n\\n%s\" % e)\n\u001b[0m\u001b[1;32m    117\u001b[0m \u001b[0;34m\u001b[0m\u001b[0m\n\u001b[1;32m    118\u001b[0m     \u001b[0;32mdef\u001b[0m \u001b[0m_read_header\u001b[0m\u001b[0;34m(\u001b[0m\u001b[0mself\u001b[0m\u001b[0;34m)\u001b[0m\u001b[0;34m:\u001b[0m\u001b[0;34m\u001b[0m\u001b[0m\n",
      "\u001b[0;31mMetadataFileError\u001b[0m: There was an issue with loading the metadata file:\n\nMetadata IDs must be unique. The following IDs are duplicated: '1.79769313486232E+308'\n\nThere may be more errors present in the metadata file. To get a full report, sample/feature metadata files can be validated with Keemei: https://keemei.qiime2.org\n\nFind details on QIIME 2 metadata requirements here: https://docs.qiime2.org/2018.6/tutorials/metadata/"
     ]
    }
   ],
   "source": [
    "'''\n",
    "this one has is the base for emp\n",
    "'''\n",
    "%run match_controls_forPlot.py --id emp_base --conditions none -i emp_qiime_mapping_release1.tsv --output emp_output.csv --keep emp_keep.txt  --control emp_control.txt --case  emp_case.txt --match emp_match.txt\n",
    "%tb"
   ]
  },
  {
   "cell_type": "code",
   "execution_count": 8,
   "metadata": {},
   "outputs": [
    {
     "data": {
      "text/html": [
       "<div>\n",
       "<style scoped>\n",
       "    .dataframe tbody tr th:only-of-type {\n",
       "        vertical-align: middle;\n",
       "    }\n",
       "\n",
       "    .dataframe tbody tr th {\n",
       "        vertical-align: top;\n",
       "    }\n",
       "\n",
       "    .dataframe thead th {\n",
       "        text-align: right;\n",
       "    }\n",
       "</style>\n",
       "<table border=\"1\" class=\"dataframe\">\n",
       "  <thead>\n",
       "    <tr style=\"text-align: right;\">\n",
       "      <th></th>\n",
       "      <th>dataset</th>\n",
       "      <th>conditions</th>\n",
       "      <th>load</th>\n",
       "      <th>keep</th>\n",
       "      <th>case_control</th>\n",
       "      <th>null_filter</th>\n",
       "      <th>match</th>\n",
       "      <th>total</th>\n",
       "    </tr>\n",
       "    <tr>\n",
       "      <th>id</th>\n",
       "      <th></th>\n",
       "      <th></th>\n",
       "      <th></th>\n",
       "      <th></th>\n",
       "      <th></th>\n",
       "      <th></th>\n",
       "      <th></th>\n",
       "      <th></th>\n",
       "    </tr>\n",
       "  </thead>\n",
       "  <tbody>\n",
       "    <tr>\n",
       "      <th>ag_base</th>\n",
       "      <td>ag_map_with_alpha.txt</td>\n",
       "      <td>none</td>\n",
       "      <td>48.092930</td>\n",
       "      <td>9.016555</td>\n",
       "      <td>16.808611</td>\n",
       "      <td>23.027791</td>\n",
       "      <td>2.720431</td>\n",
       "      <td>99.666323</td>\n",
       "    </tr>\n",
       "    <tr>\n",
       "      <th>ag_1</th>\n",
       "      <td>ag_map_with_alpha.txt</td>\n",
       "      <td>keep_1L</td>\n",
       "      <td>44.489443</td>\n",
       "      <td>10.166458</td>\n",
       "      <td>10.847427</td>\n",
       "      <td>19.784701</td>\n",
       "      <td>4.426616</td>\n",
       "      <td>89.714651</td>\n",
       "    </tr>\n",
       "    <tr>\n",
       "      <th>sk_base</th>\n",
       "      <td>sk_hc_merged.txt</td>\n",
       "      <td>none</td>\n",
       "      <td>0.092827</td>\n",
       "      <td>0.000251</td>\n",
       "      <td>0.133628</td>\n",
       "      <td>0.334269</td>\n",
       "      <td>0.597723</td>\n",
       "      <td>1.158702</td>\n",
       "    </tr>\n",
       "    <tr>\n",
       "      <th>ag_2</th>\n",
       "      <td>ag_map_with_alpha.txt</td>\n",
       "      <td>keep_rL</td>\n",
       "      <td>56.483771</td>\n",
       "      <td>21.400983</td>\n",
       "      <td>36.681012</td>\n",
       "      <td>42.078485</td>\n",
       "      <td>19.420631</td>\n",
       "      <td>176.064890</td>\n",
       "    </tr>\n",
       "  </tbody>\n",
       "</table>\n",
       "</div>"
      ],
      "text/plain": [
       "                       dataset conditions       load       keep  case_control  \\\n",
       "id                                                                              \n",
       "ag_base  ag_map_with_alpha.txt       none  48.092930   9.016555     16.808611   \n",
       "ag_1     ag_map_with_alpha.txt    keep_1L  44.489443  10.166458     10.847427   \n",
       "sk_base       sk_hc_merged.txt       none   0.092827   0.000251      0.133628   \n",
       "ag_2     ag_map_with_alpha.txt    keep_rL  56.483771  21.400983     36.681012   \n",
       "\n",
       "         null_filter      match       total  \n",
       "id                                           \n",
       "ag_base    23.027791   2.720431   99.666323  \n",
       "ag_1       19.784701   4.426616   89.714651  \n",
       "sk_base     0.334269   0.597723    1.158702  \n",
       "ag_2       42.078485  19.420631  176.064890  "
      ]
     },
     "execution_count": 8,
     "metadata": {},
     "output_type": "execute_result"
    }
   ],
   "source": [
    "plotDF = pd.read_csv('data_plot.csv',  sep = '\\t').set_index('id')\n",
    "plotDF"
   ]
  },
  {
   "cell_type": "code",
   "execution_count": 9,
   "metadata": {},
   "outputs": [
    {
     "ename": "KeyError",
     "evalue": "'sk_base'",
     "output_type": "error",
     "traceback": [
      "\u001b[0;31m---------------------------------------------------------------------------\u001b[0m",
      "\u001b[0;31mKeyError\u001b[0m                                  Traceback (most recent call last)",
      "\u001b[0;32m<ipython-input-9-c84ac793ab40>\u001b[0m in \u001b[0;36m<module>\u001b[0;34m()\u001b[0m\n\u001b[1;32m      8\u001b[0m \u001b[0;32mfor\u001b[0m \u001b[0mindex\u001b[0m\u001b[0;34m,\u001b[0m \u001b[0mrow\u001b[0m \u001b[0;32min\u001b[0m \u001b[0mplotDF\u001b[0m\u001b[0;34m.\u001b[0m\u001b[0miterrows\u001b[0m\u001b[0;34m(\u001b[0m\u001b[0;34m)\u001b[0m\u001b[0;34m:\u001b[0m\u001b[0;34m\u001b[0m\u001b[0m\n\u001b[1;32m      9\u001b[0m     plt.plot(('loud', 'keep', 'case_control', 'null_filter', 'match'), (row['load'], row['keep'], row['case_control'], \n\u001b[0;32m---> 10\u001b[0;31m        row['null_filter'], row['match']), index_to_symbol[index], label = index)\n\u001b[0m\u001b[1;32m     11\u001b[0m \u001b[0;34m\u001b[0m\u001b[0m\n\u001b[1;32m     12\u001b[0m     \u001b[0;31m#plt.plot('total', row['total'], index_to_symbol[index])\u001b[0m\u001b[0;34m\u001b[0m\u001b[0;34m\u001b[0m\u001b[0m\n",
      "\u001b[0;31mKeyError\u001b[0m: 'sk_base'"
     ]
    },
    {
     "data": {
      "image/png": "[encoded data removed]",
      "text/plain": [
       "<Figure size 432x288 with 1 Axes>"
      ]
     },
     "metadata": {},
     "output_type": "display_data"
    }
   ],
   "source": [
    "'''\n",
    "plots all the different times to complete each step \n",
    "total time is not included in the plot since it makes the the resolution between other points in the plot\n",
    "'''\n",
    "index_to_symbol = {'ag_base':'b', 'ag_1':'r', 'ag_2':'y', 'emp_base':'g', 'emp_1':'c'\n",
    "                  }\n",
    "\n",
    "for index, row in plotDF.iterrows():\n",
    "    plt.plot(('loud', 'keep', 'case_control', 'null_filter', 'match'), (row['load'], row['keep'], row['case_control'], \n",
    "       row['null_filter'], row['match']), index_to_symbol[index], label = index)\n",
    "    \n",
    "    #plt.plot('total', row['total'], index_to_symbol[index])\n",
    "\n",
    "plt.legend()\n",
    "plt.ylabel('Time (sec)')    \n",
    "plt.xlabel('Stage')\n",
    "plt.show()"
   ]
  },
  {
   "cell_type": "markdown",
   "metadata": {},
   "source": [
    "dataframe = pd.read_csv('emp_qiime_mapping_release1.tsv', sep='\\t')\n",
    "dataframe\n",
    "Metadata.load( 'emp_qiime_mapping_release1.tsv' ).to_dataframe()['qc_filtered']"
   ]
  },
  {
   "cell_type": "code",
   "execution_count": null,
   "metadata": {},
   "outputs": [],
   "source": [
    "\n",
    "#from before click implemented\n",
    "\n",
    "    if null_values_lines_input == False or match_condition_lines_input == False:\n",
    "        prepped_for_matchMD = case_controlMD\n",
    "    else:\n",
    "        prepped_for_matchMD= filter_prep_for_matchMD(case_controlMD, match_condition_lines_input, null_values_lines_input)\n",
    "\n",
    "    tprepped = time.clock()\n",
    "    print('time to prep Metadata information for match is %s'%(tprepped - tkeep))\n",
    "\n",
    "    if match_condition_lines_input != False:\n",
    "        matchedMD = match_samples( prepped_for_matchMD, match_condition_lines_input )\n",
    "        matchedMD.to_dataframe().to_csv(outputFileName, sep = '\\t')\n",
    "\n",
    "    tmatch = time.clock()\n",
    "    tend = time.clock()\n",
    "    print('time to match is %s'%(tmatch- tprepped))\n",
    "    print('time to do everything %s'%(tend-tstart))\n",
    "\n",
    "    \n",
    "\n",
    "#look in to flag for exclude_query_lines_input\n",
    "if exclude_query_lines_input != False:\n",
    "    afterExclusionMD = keep_samples(originalMD, exclude_query_lines_input)\n",
    "else:\n",
    "    afterExclusionMD = originalMD\n",
    "\n",
    "tkeep = time.clock()\n",
    "print('time to filter out unwanted samples is %s'%(tkeep - tloadedFiles))\n",
    "\n",
    "if case_query_lines_input != False and control_query_lines_input != False:\n",
    "    ids = afterExclusionMD.get_ids()\n",
    "    case_control_Series = pd.Series( ['Unspecified'] * len(ids), ids)\n",
    "    '''\n",
    "    ['Unspecified'] * len(ids) creates a list of elements. The list is the\n",
    "    same length as ids. All the elements are 'Unspecified'\n",
    "    '''\n",
    "    case_control_Series.index.name = afterExclusionMD.id_header\n",
    "    case_controlDF = case_control_Series.to_frame('case_control')\n",
    "    case_control_dict = {'case':case_query_lines_input, 'control':control_query_lines_input }\n",
    "\n",
    "    case_controlMD = determine_cases_and_controls(afterExclusionMD, case_control_dict, case_controlDF)\n",
    "else:\n",
    "    afterExclusionMD.to_dataframe().to_csv(outputFileName, sep = '\\t')\n",
    "    print('keep exit')\n",
    "    break\n",
    "\n"
   ]
  }
 ],
 "metadata": {
  "kernelspec": {
   "display_name": "Python 3",
   "language": "python",
   "name": "python3"
  },
  "language_info": {
   "codemirror_mode": {
    "name": "ipython",
    "version": 3
   },
   "file_extension": ".py",
   "mimetype": "text/x-python",
   "name": "python",
   "nbconvert_exporter": "python",
   "pygments_lexer": "ipython3",
   "version": "3.5.5"
  }
 },
 "nbformat": 4,
 "nbformat_minor": 2
}
