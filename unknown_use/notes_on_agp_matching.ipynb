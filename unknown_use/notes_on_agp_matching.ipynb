{
 "cells": [
  {
   "cell_type": "code",
   "execution_count": 1,
   "metadata": {},
   "outputs": [],
   "source": [
    "%matplotlib inline\n",
    "\n",
    "import matplotlib\n",
    "import numpy as np\n",
    "import matplotlib.pyplot as plt\n",
    "\n",
    "\n",
    "import getopt, sys\n",
    "import pandas as pd\n",
    "import numpy as np\n",
    "import qiime2\n",
    "import time\n",
    "\n",
    "from qiime2 import Metadata"
   ]
  },
  {
   "cell_type": "markdown",
   "metadata": {},
   "source": [
    "Created a match_controls_forPlot.py file to make the plots below. It makes changes to file data_plot.csv created below. match_controls_forPlot.py is the same as match_controls.py except for the ability to change data_plot.csv. The only time that should be affected is load since the dataset and conditions are new things that are stored at that phase."
   ]
  },
  {
   "cell_type": "markdown",
   "metadata": {},
   "source": [
    "The file names for match, null, keep, case, and control indicate the conditions. Files with no conditions are the base line. r means range of exeptable samples. L, M, S usually mean Large, Medium, and Small respectivly except when they follow a number. In the case of L a number in front of it indicate how many lines the file is."
   ]
  },
  {
   "cell_type": "code",
   "execution_count": 2,
   "metadata": {},
   "outputs": [
    {
     "data": {
      "text/html": [
       "<div>\n",
       "<style scoped>\n",
       "    .dataframe tbody tr th:only-of-type {\n",
       "        vertical-align: middle;\n",
       "    }\n",
       "\n",
       "    .dataframe tbody tr th {\n",
       "        vertical-align: top;\n",
       "    }\n",
       "\n",
       "    .dataframe thead th {\n",
       "        text-align: right;\n",
       "    }\n",
       "</style>\n",
       "<table border=\"1\" class=\"dataframe\">\n",
       "  <thead>\n",
       "    <tr style=\"text-align: right;\">\n",
       "      <th></th>\n",
       "      <th>dataset</th>\n",
       "      <th>conditions</th>\n",
       "      <th>load</th>\n",
       "      <th>keep</th>\n",
       "      <th>case_control</th>\n",
       "      <th>null_filter</th>\n",
       "      <th>match</th>\n",
       "      <th>total</th>\n",
       "    </tr>\n",
       "    <tr>\n",
       "      <th>id</th>\n",
       "      <th></th>\n",
       "      <th></th>\n",
       "      <th></th>\n",
       "      <th></th>\n",
       "      <th></th>\n",
       "      <th></th>\n",
       "      <th></th>\n",
       "      <th></th>\n",
       "    </tr>\n",
       "  </thead>\n",
       "  <tbody>\n",
       "  </tbody>\n",
       "</table>\n",
       "</div>"
      ],
      "text/plain": [
       "Empty DataFrame\n",
       "Columns: [dataset, conditions, load, keep, case_control, null_filter, match, total]\n",
       "Index: []"
      ]
     },
     "execution_count": 2,
     "metadata": {},
     "output_type": "execute_result"
    }
   ],
   "source": [
    "plotFrame = pd.DataFrame(columns=['dataset','conditions','load','keep','case_control','null_filter','match','total'])\n",
    "plotFrame.index.name = 'id'\n",
    "plotFrame.to_csv('data_plot.csv', sep = '\\t')\n",
    "#plotFrame = plotFrame.append(pd.Series( {'dataset':1, 'conditions':1, 'case_control':(1- 2), 'match':(2- 1), 'total':(2-1), 'null_filter':(2 - 1), 'keep':(2 - 1), 'load':(2 - 1)}).rename('id_value') )\n",
    "plotFrame"
   ]
  },
  {
   "cell_type": "code",
   "execution_count": null,
   "metadata": {
    "scrolled": false
   },
   "outputs": [
    {
     "name": "stdout",
     "output_type": "stream",
     "text": [
      "time to load input files is 48.09293\n"
     ]
    }
   ],
   "source": [
    "'''\n",
    "this one has 2 lines of conditions for --keep\n",
    "'''\n",
    "%run match_controls_forPlot.py --id ag_base --conditions none -i ag_map_with_alpha.txt --output agp_output.csv -k agp_keep.txt --control agp_control.txt --case=agp_case.txt --nullValues agp_nulls.txt --match agp_match.txt \n"
   ]
  },
  {
   "cell_type": "code",
   "execution_count": null,
   "metadata": {},
   "outputs": [],
   "source": [
    "'''\n",
    "this one has 1 line of conditions for --keep\n",
    "'''\n",
    "%run match_controls_forPlot.py --id ag_1 --conditions keep_1L -i ag_map_with_alpha.txt --output agp_output1.csv -k agp_keep_1L.txt --control agp_control.txt --case=agp_case.txt --nullValues agp_nulls.txt --match agp_match.txt \n"
   ]
  },
  {
   "cell_type": "code",
   "execution_count": null,
   "metadata": {},
   "outputs": [],
   "source": [
    "'''\n",
    "base conditions\n",
    "\n",
    "'''\n",
    "\n",
    "%run match_controls_forPlot.py  --id sk_base --conditions none -i sk_hc_merged.txt --nullValues agp_nulls.txt --case skit_case.txt --control skit_control.txt --match skit_match.txt --output sk_output_20.csv \n",
    "\n"
   ]
  },
  {
   "cell_type": "code",
   "execution_count": null,
   "metadata": {},
   "outputs": [],
   "source": [
    "'''\n",
    "this one has 1 line of conditions for --control and --case\n",
    "\n",
    "this one has a medium range in conditions for --keep\n",
    "--match also has a medium range\n",
    "'''\n",
    "\n",
    "%run match_controls_forPlot.py --id ag_2 --conditions keep_rL -i ag_map_with_alpha.txt --output agp_output2.csv -k agp_keep_rL.txt --control agp_control_1L.txt --case=agp_case_1L.txt --nullValues agp_nulls.txt --match agp_match_rM.txt \n"
   ]
  },
  {
   "cell_type": "code",
   "execution_count": null,
   "metadata": {},
   "outputs": [],
   "source": [
    "'''\n",
    "this one has is the base for emp\n",
    "'''\n",
    "%run match_controls_forPlot.py --id emp_base --conditions none -i emp_qiime_mapping_release1.tsv --output emp_output.csv --keep emp_keep.txt  --control emp_control.txt --case  emp_case.txt --match emp_match.txt\n",
    "%tb"
   ]
  },
  {
   "cell_type": "code",
   "execution_count": null,
   "metadata": {},
   "outputs": [],
   "source": [
    "plotDF = pd.read_csv('data_plot.csv',  sep = '\\t').set_index('id')\n",
    "plotDF"
   ]
  },
  {
   "cell_type": "code",
   "execution_count": null,
   "metadata": {},
   "outputs": [],
   "source": [
    "'''\n",
    "plots all the different times to complete each step \n",
    "total time is not included in the plot since it makes the the resolution between other points in the plot\n",
    "'''\n",
    "index_to_symbol = {'ag_base':'b', 'ag_1':'r', 'ag_2':'y', 'emp_base':'g', 'emp_1':'c'\n",
    "                  }\n",
    "\n",
    "for index, row in plotDF.iterrows():\n",
    "    plt.plot(('loud', 'keep', 'case_control', 'null_filter', 'match'), (row['load'], row['keep'], row['case_control'], \n",
    "       row['null_filter'], row['match']), index_to_symbol[index], label = index)\n",
    "    \n",
    "    #plt.plot('total', row['total'], index_to_symbol[index])\n",
    "\n",
    "plt.legend()\n",
    "plt.ylabel('Time (sec)')    \n",
    "plt.xlabel('Stage')\n",
    "plt.show()"
   ]
  },
  {
   "cell_type": "markdown",
   "metadata": {},
   "source": [
    "dataframe = pd.read_csv('emp_qiime_mapping_release1.tsv', sep='\\t')\n",
    "dataframe\n",
    "Metadata.load( 'emp_qiime_mapping_release1.tsv' ).to_dataframe()['qc_filtered']"
   ]
  }
 ],
 "metadata": {
  "kernelspec": {
   "display_name": "Python 3",
   "language": "python",
   "name": "python3"
  },
  "language_info": {
   "codemirror_mode": {
    "name": "ipython",
    "version": 3
   },
   "file_extension": ".py",
   "mimetype": "text/x-python",
   "name": "python",
   "nbconvert_exporter": "python",
   "pygments_lexer": "ipython3",
   "version": "3.5.5"
  }
 },
 "nbformat": 4,
 "nbformat_minor": 2
}
