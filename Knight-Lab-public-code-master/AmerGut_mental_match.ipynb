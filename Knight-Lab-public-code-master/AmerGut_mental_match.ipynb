{
 "cells": [
  {
   "cell_type": "code",
   "execution_count": 1,
   "metadata": {},
   "outputs": [
    {
     "name": "stdout",
     "output_type": "stream",
     "text": [
      "start\n"
     ]
    }
   ],
   "source": [
    "'''\n",
    "Created on Jun 24, 2018\n",
    "\n",
    "@author: Mark Holton\n",
    "'''\n",
    "\n",
    "import sys\n",
    "\n",
    "\n",
    "import pandas as pd\n",
    "import numpy as np\n",
    "\n",
    "\n",
    "print(\"start\")"
   ]
  },
  {
   "cell_type": "markdown",
   "metadata": {},
   "source": [
    "Comments are for code below\n",
    "Reads a text file in and converts it to a dataframe. Due to the large size of the file a smaller file is created with hard coded columns for testing."
   ]
  },
  {
   "cell_type": "code",
   "execution_count": 2,
   "metadata": {
    "scrolled": false
   },
   "outputs": [
    {
     "name": "stderr",
     "output_type": "stream",
     "text": [
      "/home/markholton/anaconda3/lib/python3.6/site-packages/IPython/core/interactiveshell.py:2785: DtypeWarning: Columns (0,66) have mixed types. Specify dtype option on import or set low_memory=False.\n",
      "  interactivity=interactivity, compiler=compiler, result=result)\n"
     ]
    }
   ],
   "source": [
    "#read the file in and\n",
    "textfile = \"./ag_map_with_alpha.txt\"\n",
    "originalDF=pd.read_csv(textfile,\n",
    "                        sep = \"\\t\")\n",
    "masterDF = originalDF\n",
    "masterDF_short=originalDF.loc[0:10,['#SampleID',  \n",
    "                                            'age_years',    \n",
    "                                            'antibiotic_history',    \n",
    "                                            'bmi_cat',  \n",
    "                                            'depression_bipolar_schizophrenia', \n",
    "                                            'mental_illness_type_depression', \n",
    "                                            'smoking_frequency']]\n"
   ]
  },
  {
   "cell_type": "markdown",
   "metadata": {},
   "source": [
    "Reads in user submited txt files and ask for user input to determine if data in the exclude file is to be filtered out or used to exclude everything that does not match it."
   ]
  },
  {
   "cell_type": "code",
   "execution_count": 3,
   "metadata": {},
   "outputs": [
    {
     "name": "stdout",
     "output_type": "stream",
     "text": [
      "./exclude.txt\n",
      "False\n",
      "./control.txt\n",
      "./experiment.txt\n",
      "./match.txt\n"
     ]
    }
   ],
   "source": [
    "user_input_exclude = 'exclude' # input(\"Filename for file with column and data to exclude: \")\n",
    "user_input_exclude_in_match = False # input('Is the \"exclude\" data to be excluded or kept (T for excluded and F for kept') == 'T'\n",
    "user_input_control = 'control' # input(\"Filename for file with column and data to determine control: \")\n",
    "user_input_experiment = 'experiment' # input(\"Filename for file with column and data to determine experimental: \")\n",
    "user_input_match = 'match' # input(\"Filename for file with columns, type of value, and offset if needed to match samples: \")\n",
    "\n",
    "\n",
    "user_input_exclude = './%s.txt'%(user_input_exclude)\n",
    "user_input_control = './%s.txt'%(user_input_control)\n",
    "user_input_experiment = './%s.txt'%(user_input_experiment )\n",
    "user_input_match= './%s.txt'%(user_input_match)\n",
    "\n",
    "\n",
    "print(user_input_exclude)\n",
    "print(user_input_exclude_in_match)\n",
    "print(user_input_control)\n",
    "print(user_input_experiment)\n",
    "print(user_input_match)"
   ]
  },
  {
   "cell_type": "markdown",
   "metadata": {},
   "source": [
    "Turns the user files into dataframes"
   ]
  },
  {
   "cell_type": "code",
   "execution_count": 10,
   "metadata": {
    "scrolled": true
   },
   "outputs": [],
   "source": [
    "user_input_excludeDF = pd.read_csv(user_input_exclude, sep = \"\\t\")\n",
    "user_input_controlDF = pd.read_csv(user_input_control, sep = \"\\t\")\n",
    "user_input_experimentDF = pd.read_csv(user_input_experiment, sep = \"\\t\")\n",
    "user_input_matchDF = pd.read_csv(user_input_match, sep = \"\\t\")\n",
    "\n"
   ]
  },
  {
   "cell_type": "markdown",
   "metadata": {},
   "source": [
    "Filters out unwanted rows based on values in chosen columns"
   ]
  },
  {
   "cell_type": "code",
   "execution_count": null,
   "metadata": {},
   "outputs": [],
   "source": [
    "masterDF = masterDF_short.copy()  \n",
    "inputDF = user_input_excludeDF.copy()\n",
    "exclude_if_match = user_input_exclude_in_match\n",
    "    \n",
    "rows_num , columns_num = inputDF.shape\n",
    "print('rows  = %s, columns = %s'%(rows_num, columns_num) )\n",
    "r_counter = 0\n",
    "c_counter = 0\n",
    "\n",
    "while c_counter < columns_num:\n",
    "    column_name = inputDF.columns[c_counter]\n",
    "    print(column_name)\n",
    "    masterDF = masterDF[\n",
    "                masterDF[column_name].isin( inputDF[column_name].tolist() ) \n",
    "                == \n",
    "                ( not exclude_if_match ) ]\n",
    "    c_counter = c_counter + 1\n",
    "\n",
    "excludeDF = masterDF.copy()    \n",
    "#masterDF"
   ]
  },
  {
   "cell_type": "code",
   "execution_count": null,
   "metadata": {
    "scrolled": false
   },
   "outputs": [],
   "source": [
    "\n",
    "#masterDF = masterDF.reset_index(drop=True)\n"
   ]
  },
  {
   "cell_type": "markdown",
   "metadata": {},
   "source": [
    "Lables the samples based on if they are control or not"
   ]
  },
  {
   "cell_type": "code",
   "execution_count": null,
   "metadata": {},
   "outputs": [],
   "source": [
    "masterDF = excludeDF.copy()\n",
    "\n",
    "inputDF = user_input_controlDF.copy()\n",
    "    \n",
    "rows_num , columns_num = inputDF.shape\n",
    "print('rows  = %s, columns = %s'%(rows_num, columns_num) )\n",
    "r_counter = 0\n",
    "c_counter = 0\n",
    "\n",
    "while c_counter < columns_num:\n",
    "    column_name = inputDF.columns[c_counter]\n",
    "    print(column_name)\n",
    "    masterDF['control'] = masterDF[column_name].isin( inputDF[column_name].tolist() ).replace(True, 'control')   \n",
    "    masterDF['control'] = masterDF['control'].replace(False, np.NaN )\n",
    "    c_counter = c_counter + 1\n",
    "\n",
    "controlDF = masterDF.copy()\n",
    "controlDF"
   ]
  },
  {
   "cell_type": "markdown",
   "metadata": {},
   "source": [
    "Lables the samples based on if they are experiment or not"
   ]
  },
  {
   "cell_type": "code",
   "execution_count": null,
   "metadata": {},
   "outputs": [],
   "source": [
    "masterDF = controlDF.copy()\n",
    "\n",
    "inputDF = user_input_experimentDF.copy()\n",
    "    \n",
    "rows_num , columns_num = inputDF.shape\n",
    "print('rows  = %s, columns = %s'%(rows_num, columns_num) )\n",
    "r_counter = 0\n",
    "c_counter = 0\n",
    "\n",
    "while c_counter < columns_num:\n",
    "    column_name = inputDF.columns[c_counter]\n",
    "    print(column_name)\n",
    "    masterDF['experiment'] = masterDF[column_name].isin( inputDF[column_name].tolist() )    \n",
    "    c_counter = c_counter + 1\n",
    "\n",
    "experDF = masterDF.copy()"
   ]
  },
  {
   "cell_type": "markdown",
   "metadata": {},
   "source": [
    "Matches samples labled experiment to control samples"
   ]
  },
  {
   "cell_type": "code",
   "execution_count": null,
   "metadata": {},
   "outputs": [],
   "source": [
    "masterDF = experDF.copy()\n",
    "\n",
    "inputDF = user_input_matchDF.copy()\n",
    "    \n",
    "rows_num , columns_num = inputDF.shape\n",
    "print('rows  = %s, columns = %s'%(rows_num, columns_num) )\n",
    "r_counter = 0\n",
    "c_counter = 0\n",
    "\n",
    "while c_counter < columns_num:\n",
    "    column_name = inputDF.columns[c_counter]\n",
    "    print(column_name)\n",
    "    masterDF['match'] = masterDF[masterDF[column_name].isin( inputDF[column_name].tolist() ) ].    \n",
    "    c_counter = c_counter + 1\n",
    "\n",
    "matchDF = masterDF.copy()"
   ]
  },
  {
   "cell_type": "code",
   "execution_count": null,
   "metadata": {},
   "outputs": [],
   "source": [
    "def Match( col_name, value_is_num, number_off=0):\n",
    "    matchDF=masterDF\n",
    "    matchDF['Matched to']='none'\n",
    "    count_exper=0\n",
    "    count_control=0\n",
    "    while count_exper < matchDF.size:\n",
    "        row = matchDF.loc[count_exper]\n",
    "        if row.loc['control or experiment'] == 'exper':\n",
    "            data_list=[]\n",
    "            for col in col_name:\n",
    "                col_value = row.loc(col)\n",
    "                if(col_value == 'Unspecified'):\n",
    "                    print(\"error some info not given for \" + row.loc[\"#SampleID\"])\n",
    "                    count_exper = count_exper + 1\n",
    "                    continue\n",
    "                data_list.append(col_value)\n",
    "                \n",
    "            count_control=0\n",
    "            while count_control < matchDF.size:\n",
    "                row_match = matchDF.loc[count_control]\n",
    "                if row_match.loc['control or experiment'] == 'control':\n",
    "                    list_counter = 0\n",
    "                    is_match = True\n",
    "                    for col in col_name:\n",
    "                        col_match_value = row_match.loc(col)\n",
    "                        if(col_match_value == 'Unspecified'):\n",
    "                            print(\"error some info not given for \" + row_match.loc[\"#SampleID\"])\n",
    "                            count_control = count_control + 1\n",
    "                            continue\n",
    "                        if(value_is_num == 'False' \n",
    "                          and data_list.at(list_counter) != col_match_value ):\n",
    "                            # match not found\n",
    "                            is_match = False\n",
    "                            count_control = count_control + 1\n",
    "                            continue\n",
    "                        if(value_is_num == 'True' \n",
    "                          and ( int(data_list.at(list_counter)) - number_off ) <= int(col_match_value)\n",
    "                          and ( int(data_list.at(list_counter)) + number_off ) >= int(col_match_value) ):\n",
    "                            # match not found\n",
    "                            is_match = False\n",
    "                            count_control = count_control + 1\n",
    "                            continue\n",
    "                        # if above cases not met then the row could still be a match\n",
    "                        list_counter = list_counter + 1\n",
    "                    \n",
    "                    if is_match == True:\n",
    "                        matchDF.loc[count_control, 'Matched to'] = row.loc['#SampleID']\n",
    "                    count_control = count_control + 1\n",
    "                \n",
    "                count_exper = count_exper + 1\n",
    "\n",
    "    return matchDF\n",
    "\n",
    "\n",
    "\n",
    "\n"
   ]
  },
  {
   "cell_type": "code",
   "execution_count": null,
   "metadata": {},
   "outputs": [],
   "source": [
    "masterDF = copy.deepcopy(exper_controlDF)\n",
    "while_count_three = while_count_two + 1\n",
    "print(while_count_three)\n",
    "masterDF['matched_to_samples'] = 'none'\n",
    "#masterDF.assign(control_or_experiment = 'none')\n",
    "\n",
    "\n",
    "while while_count_three < len(column_input_listcolumn_input_list) :\n",
    "    col_name = column_input_list[while_count_three] \n",
    "    col_data_match = user_input_matchDF[col_name].tolist()\n",
    "    val_type = col_data_match[0]\n",
    "    num_off = 0\n",
    "    if ( val_type == 'number' ):\n",
    "        num_off = col_data_match[1]\n",
    "    masterDF = Match( col_name, val_type, num_off):\n",
    "    while_count_three = while_count_three + 1\n",
    "print(\"done\")\n",
    "matchDF = copy.deepcopy(masterDF)\n",
    "masterDF\n",
    "\n",
    "\n"
   ]
  }
 ],
 "metadata": {
  "kernelspec": {
   "display_name": "Python 3",
   "language": "python",
   "name": "python3"
  },
  "language_info": {
   "codemirror_mode": {
    "name": "ipython",
    "version": 3
   },
   "file_extension": ".py",
   "mimetype": "text/x-python",
   "name": "python",
   "nbconvert_exporter": "python",
   "pygments_lexer": "ipython3",
   "version": "3.6.5"
  }
 },
 "nbformat": 4,
 "nbformat_minor": 2
}
