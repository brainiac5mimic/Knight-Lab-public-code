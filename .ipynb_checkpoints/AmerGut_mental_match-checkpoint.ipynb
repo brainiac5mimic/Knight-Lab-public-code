{
 "cells": [
  {
   "cell_type": "code",
   "execution_count": 1,
   "metadata": {
    "collapsed": false
   },
   "outputs": [
    {
     "name": "stdout",
     "output_type": "stream",
     "text": [
      "start\n"
     ]
    }
   ],
   "source": [
    "'''\n",
    "Created on Jun 24, 2018\n",
    "\n",
    "@author: Mark Holton\n",
    "'''\n",
    "\n",
    "import sys\n",
    "from _ast import Num\n",
    "from array import array\n",
    "import pandas as pd\n",
    "import numpy as np\n",
    "import copy\n",
    "\n",
    "print(\"start\")"
   ]
  },
  {
   "cell_type": "code",
   "execution_count": 2,
   "metadata": {
    "collapsed": false,
    "scrolled": false
   },
   "outputs": [
    {
     "name": "stderr",
     "output_type": "stream",
     "text": [
      "C:\\Users\\Mark Holton\\Anaconda3\\lib\\site-packages\\IPython\\core\\interactiveshell.py:2717: DtypeWarning: Columns (0,66) have mixed types. Specify dtype option on import or set low_memory=False.\n",
      "  interactivity=interactivity, compiler=compiler, result=result)\n"
     ]
    }
   ],
   "source": [
    "#read the file in and\n",
    "textfile = \"./ag_map_with_alpha.txt\"\n",
    "originalDF=pd.read_csv(textfile,\n",
    "                        sep = \"\\t\")\n",
    "masterDF = copy.deepcopy(originalDF)\n",
    "masterDF_short=copy.deepcopy(originalDF.loc[0:10,['#SampleID',  \n",
    "                                            'age_years',    \n",
    "                                            'antibiotic_history',    \n",
    "                                            'bmi_cat',  \n",
    "                                            'depression_bipolar_schizophrenia', \n",
    "                                            'mental_illness_type_depression', \n",
    "                                            'smoking_frequency']])\n",
    "#get a list of the column names\n",
    "column_name_list=masterDF.columns.values.tolist()\n",
    "#masterDF_short"
   ]
  },
  {
   "cell_type": "code",
   "execution_count": 3,
   "metadata": {
    "collapsed": false
   },
   "outputs": [
    {
     "name": "stdout",
     "output_type": "stream",
     "text": [
      "./exclude.txt\n",
      "False\n",
      "./control.txt\n",
      "./experiment.txt\n",
      "./match.txt\n"
     ]
    }
   ],
   "source": [
    "user_input_exclude = 'exclude' # input(\"Filename for file with column and data to exclude: \")\n",
    "user_input_exclude_in_match = False # input('Is the \"exclude\" data to be excluded or kept (T for excluded and F for kept') == 'T'\n",
    "user_input_control = 'control' # input(\"Filename for file with column and data to determine control: \")\n",
    "user_input_experiment = 'experiment' # input(\"Filename for file with column and data to determine experimental: \")\n",
    "user_input_match = 'match' # input(\"Filename for file with columns, type of value, and offset if needed to match samples: \")\n",
    "\n",
    "\n",
    "user_input_exclude = './' + user_input_exclude + '.txt'\n",
    "user_input_control = './' + user_input_control + '.txt'\n",
    "user_input_experiment = './' + user_input_experiment + '.txt'\n",
    "user_input_match= './' + user_input_match + '.txt'\n",
    "\n",
    "\n",
    "print(user_input_exclude)\n",
    "print(user_input_exclude_in_match)\n",
    "print(user_input_control)\n",
    "print(user_input_experiment)\n",
    "print(user_input_match)"
   ]
  },
  {
   "cell_type": "code",
   "execution_count": 4,
   "metadata": {
    "collapsed": false,
    "scrolled": true
   },
   "outputs": [
    {
     "data": {
      "text/plain": [
       "['antibiotic_history',\n",
       " 'con',\n",
       " 'depression_bipolar_schizophrenia',\n",
       " 'match',\n",
       " 'bmi_cat',\n",
       " 'age_years',\n",
       " 'smoking_frequency']"
      ]
     },
     "execution_count": 4,
     "metadata": {},
     "output_type": "execute_result"
    }
   ],
   "source": [
    "user_input_excludeDF = pd.read_csv(user_input_exclude, sep = \"\\t\")\n",
    "user_input_controlDF = pd.read_csv(user_input_control, sep = \"\\t\")\n",
    "user_input_experimentDF = pd.read_csv(user_input_experiment, sep = \"\\t\")\n",
    "user_input_matchDF = pd.read_csv(user_input_match, sep = \"\\t\")\n",
    "\n",
    "#colum_input_list has eclude column first, then control, and then the match columns\n",
    "#control and experimental column should be the same\n",
    "column_input_list=user_input_excludeDF.columns.values.tolist() + ['con'] + user_input_controlDF.columns.values.tolist() +  ['match'] +user_input_matchDF.columns.values.tolist() \n",
    "column_input_list"
   ]
  },
  {
   "cell_type": "code",
   "execution_count": 5,
   "metadata": {
    "collapsed": false
   },
   "outputs": [],
   "source": [
    "def Drop_Rows(exclude_if_match,colum_name , list_values_to_determine_exclution):\n",
    "    #if list values match a row in a column then the row is excluded\n",
    "    count = 0\n",
    "    retDF = masterDF\n",
    "    for col in colum_name:\n",
    "        print('col= ' + col)\n",
    "        for element in masterDF[ col ]:\n",
    "            if (count % 500 == 0):\n",
    "               print(count)\n",
    "            if exclude_if_match == True:\n",
    "                #if list values match a row in a column then the row is excluded\n",
    "                for value in list_values_to_determine_exclution:\n",
    "                    if(element == value):\n",
    "                        retDF = retDF.drop( count)\n",
    "            if exclude_if_match == False:\n",
    "                #if list values match a row in a column then the row is not excluded\n",
    "                dont_drop = False\n",
    "                for value in list_values_to_determine_exclution:\n",
    "                    if element == value:\n",
    "                        dont_drop = True\n",
    "                if(dont_drop == False):\n",
    "                    retDF = retDF.drop(count)\n",
    "            count = count + 1\n",
    "\n",
    "    return retDF"
   ]
  },
  {
   "cell_type": "code",
   "execution_count": 6,
   "metadata": {
    "collapsed": false,
    "scrolled": false
   },
   "outputs": [
    {
     "name": "stdout",
     "output_type": "stream",
     "text": [
      "antibiotic_history\n",
      "False\n",
      "col= antibiotic_history\n",
      "0\n",
      "done\n"
     ]
    }
   ],
   "source": [
    "masterDF = copy.deepcopy(masterDF_short)\n",
    "while_count = 0\n",
    "while column_input_list[while_count] != 'con':\n",
    "    col_name = column_input_list[while_count] \n",
    "    print(col_name )\n",
    "    col_data = user_input_excludeDF[col_name].tolist()\n",
    "    print(user_input_exclude_in_match)\n",
    "    masterDF = Drop_Rows(user_input_exclude_in_match, [col_name] , col_data)\n",
    "    while_count = while_count + 1\n",
    "print(\"done\")\n",
    "masterDF = masterDF.reset_index(drop=True)\n",
    "excludeDF = copy.deepcopy(masterDF)\n"
   ]
  },
  {
   "cell_type": "code",
   "execution_count": 7,
   "metadata": {
    "collapsed": false
   },
   "outputs": [],
   "source": [
    "def Lable_Controls_and_Exper(colum_name, list_values_to_determine_control, list_values_to_determine_exper):\n",
    "    contDF = copy.deepcopy(masterDF)\n",
    "    \n",
    "    for col in colum_name:\n",
    "        index = 0\n",
    "        print(col+':')\n",
    "        print(contDF)\n",
    "        print(contDF[col])\n",
    "        for element in contDF[col]:\n",
    "            #print(index)\n",
    "            #if list values match a row in a column then the row is excluded\n",
    "            for value in list_values_to_determine_control:\n",
    "                    \n",
    "                if(element == value \n",
    "                    and contDF.loc[index,'control_or_experiment'] != 'exper'):\n",
    "                    contDF.loc[index,'control_or_experiment'] = 'control'\n",
    "                        \n",
    "            for value in list_values_to_determine_exper:\n",
    "                if(element == value):\n",
    "                    contDF.loc[ index, 'control_or_experiment' ] = 'exper'\n",
    "                        \n",
    "            index = index + 1 \n",
    "        print(contDF)\n",
    "        print(contDF[col])\n"
   ]
  },
  {
   "cell_type": "code",
   "execution_count": 8,
   "metadata": {
    "collapsed": false
   },
   "outputs": [
    {
     "name": "stdout",
     "output_type": "stream",
     "text": [
      "2\n",
      "depression_bipolar_schizophrenia:\n",
      "         #SampleID age_years                              antibiotic_history  \\\n",
      "0  10317.000049761        52  I have not taken antibiotics in the past year.   \n",
      "1  10317.000040165        32  I have not taken antibiotics in the past year.   \n",
      "2  10317.000030322      43.0  I have not taken antibiotics in the past year.   \n",
      "3  10317.000028857      56.0  I have not taken antibiotics in the past year.   \n",
      "4  10317.000038189      39.0  I have not taken antibiotics in the past year.   \n",
      "5  10317.000001281      61.0  I have not taken antibiotics in the past year.   \n",
      "6  10317.000036487      46.0  I have not taken antibiotics in the past year.   \n",
      "\n",
      "       bmi_cat depression_bipolar_schizophrenia  \\\n",
      "0   Overweight                      Unspecified   \n",
      "1  Unspecified                      Unspecified   \n",
      "2       Normal     I do not have this condition   \n",
      "3   Overweight     I do not have this condition   \n",
      "4   Overweight                      Unspecified   \n",
      "5  Unspecified                      Unspecified   \n",
      "6        Obese     I do not have this condition   \n",
      "\n",
      "  mental_illness_type_depression smoking_frequency control_or_experiment  \n",
      "0                    Unspecified             Never                  none  \n",
      "1                    Unspecified             Never                  none  \n",
      "2                    Unspecified             Never                  none  \n",
      "3                    Unspecified             Never                  none  \n",
      "4                    Unspecified             Never                  none  \n",
      "5                    Unspecified             Never                  none  \n",
      "6                    Unspecified             Never                  none  \n",
      "0                     Unspecified\n",
      "1                     Unspecified\n",
      "2    I do not have this condition\n",
      "3    I do not have this condition\n",
      "4                     Unspecified\n",
      "5                     Unspecified\n",
      "6    I do not have this condition\n",
      "Name: depression_bipolar_schizophrenia, dtype: object\n",
      "         #SampleID age_years                              antibiotic_history  \\\n",
      "0  10317.000049761        52  I have not taken antibiotics in the past year.   \n",
      "1  10317.000040165        32  I have not taken antibiotics in the past year.   \n",
      "2  10317.000030322      43.0  I have not taken antibiotics in the past year.   \n",
      "3  10317.000028857      56.0  I have not taken antibiotics in the past year.   \n",
      "4  10317.000038189      39.0  I have not taken antibiotics in the past year.   \n",
      "5  10317.000001281      61.0  I have not taken antibiotics in the past year.   \n",
      "6  10317.000036487      46.0  I have not taken antibiotics in the past year.   \n",
      "\n",
      "       bmi_cat depression_bipolar_schizophrenia  \\\n",
      "0   Overweight                      Unspecified   \n",
      "1  Unspecified                      Unspecified   \n",
      "2       Normal     I do not have this condition   \n",
      "3   Overweight     I do not have this condition   \n",
      "4   Overweight                      Unspecified   \n",
      "5  Unspecified                      Unspecified   \n",
      "6        Obese     I do not have this condition   \n",
      "\n",
      "  mental_illness_type_depression smoking_frequency control_or_experiment  \n",
      "0                    Unspecified             Never               control  \n",
      "1                    Unspecified             Never               control  \n",
      "2                    Unspecified             Never               control  \n",
      "3                    Unspecified             Never               control  \n",
      "4                    Unspecified             Never               control  \n",
      "5                    Unspecified             Never               control  \n",
      "6                    Unspecified             Never               control  \n",
      "0                     Unspecified\n",
      "1                     Unspecified\n",
      "2    I do not have this condition\n",
      "3    I do not have this condition\n",
      "4                     Unspecified\n",
      "5                     Unspecified\n",
      "6    I do not have this condition\n",
      "Name: depression_bipolar_schizophrenia, dtype: object\n",
      "done\n"
     ]
    }
   ],
   "source": [
    "masterDF = copy.deepcopy(excludeDF)\n",
    "while_count_two = while_count + 1\n",
    "print(while_count_two)\n",
    "masterDF['control_or_experiment'] = 'none'\n",
    "#masterDF.assign(control_or_experiment = 'none')\n",
    "\n",
    "testDF= copy.deepcopy(excludeDF)\n",
    "\n",
    "while column_input_list[while_count_two] != 'match':\n",
    "    col_name = column_input_list[while_count_two] \n",
    "    col_data_control = user_input_controlDF[col_name].tolist()\n",
    "    col_data_exper = user_input_experimentDF[col_name].tolist()   \n",
    "    masterDF = Lable_Controls_and_Exper([col_name], col_data_control, col_data_exper)\n",
    "    while_count_two = while_count_two + 1\n",
    "print(\"done\")\n",
    "exper_controlDF = copy.deepcopy(masterDF)\n",
    "masterDF\n",
    "\n",
    "\n",
    " \n",
    "    \n"
   ]
  },
  {
   "cell_type": "code",
   "execution_count": 5,
   "metadata": {
    "collapsed": true
   },
   "outputs": [],
   "source": [
    "def Match( col_name, value_is_num, number_off=0):\n",
    "    matchDF=masterDF\n",
    "    matchDF['Matched to']='none'\n",
    "    count_exper=0\n",
    "    count_control=0\n",
    "    while count_exper < matchDF.size:\n",
    "        row = matchDF.loc[count_exper]\n",
    "        if row.loc['control or experiment'] == 'exper':\n",
    "            data_list=[]\n",
    "            for col in col_name:\n",
    "                col_value = row.loc(col)\n",
    "                if(col_value == 'Unspecified'):\n",
    "                    print(\"error some info not given for \" + row.loc[\"#SampleID\"])\n",
    "                    count_exper = count_exper + 1\n",
    "                    continue\n",
    "                data_list.append(col_value)\n",
    "                \n",
    "            count_control=0\n",
    "            while count_control < matchDF.size:\n",
    "                row_match = matchDF.loc[count_control]\n",
    "                if row_match.loc['control or experiment'] == 'control':\n",
    "                    list_counter = 0\n",
    "                    is_match = True\n",
    "                    for col in col_name:\n",
    "                        col_match_value = row_match.loc(col)\n",
    "                        if(col_match_value == 'Unspecified'):\n",
    "                            print(\"error some info not given for \" + row_match.loc[\"#SampleID\"])\n",
    "                            count_control = count_control + 1\n",
    "                            continue\n",
    "                        if(value_is_num == 'False' \n",
    "                          and data_list.at(list_counter) != col_match_value ):\n",
    "                            # match not found\n",
    "                            is_match = False\n",
    "                            count_control = count_control + 1\n",
    "                            continue\n",
    "                        if(value_is_num == 'True' \n",
    "                          and ( int(data_list.at(list_counter)) - number_off ) <= int(col_match_value)\n",
    "                          and ( int(data_list.at(list_counter)) + number_off ) >= int(col_match_value) ):\n",
    "                            # match not found\n",
    "                            is_match = False\n",
    "                            count_control = count_control + 1\n",
    "                            continue\n",
    "                        # if above cases not met then the row could still be a match\n",
    "                        list_counter = list_counter + 1\n",
    "                    \n",
    "                    if is_match == True:\n",
    "                        matchDF.loc[count_control, 'Matched to'] = row.loc['#SampleID']\n",
    "                    count_control = count_control + 1\n",
    "                \n",
    "                count_exper = count_exper + 1\n",
    "\n",
    "    return matchDF\n",
    "\n",
    "\n",
    "\n",
    "\n"
   ]
  },
  {
   "cell_type": "code",
   "execution_count": null,
   "metadata": {
    "collapsed": true
   },
   "outputs": [],
   "source": [
    "masterDF = copy.deepcopy(exper_controlDF)\n",
    "while_count_three = while_count_two + 1\n",
    "print(while_count_three)\n",
    "masterDF['matched_to_samples'] = 'none'\n",
    "#masterDF.assign(control_or_experiment = 'none')\n",
    "\n",
    "\n",
    "while while_count_three < len(column_input_listcolumn_input_list) :\n",
    "    col_name = column_input_list[while_count_three] \n",
    "    col_data_match = user_input_matchDF[col_name].tolist()\n",
    "    val_type = col_data_match[0]\n",
    "    num_off = 0\n",
    "    if ( val_type == 'number' ):\n",
    "        num_off = col_data_match[1]\n",
    "    masterDF = Match( col_name, val_type, num_off):\n",
    "    while_count_three = while_count_three + 1\n",
    "print(\"done\")\n",
    "matchDF = copy.deepcopy(masterDF)\n",
    "masterDF\n",
    "\n",
    "\n"
   ]
  },
  {
   "cell_type": "code",
   "execution_count": 5,
   "metadata": {
    "collapsed": false
   },
   "outputs": [],
   "source": [
    "#excludeDF"
   ]
  },
  {
   "cell_type": "code",
   "execution_count": null,
   "metadata": {
    "collapsed": false
   },
   "outputs": [],
   "source": [
    "column_name_list"
   ]
  },
  {
   "cell_type": "code",
   "execution_count": null,
   "metadata": {
    "collapsed": false
   },
   "outputs": [],
   "source": [
    "originalDF"
   ]
  },
  {
   "cell_type": "code",
   "execution_count": 9,
   "metadata": {
    "collapsed": false
   },
   "outputs": [
    {
     "name": "stdout",
     "output_type": "stream",
     "text": [
      "None\n"
     ]
    }
   ],
   "source": [
    "print(masterDF)"
   ]
  },
  {
   "cell_type": "code",
   "execution_count": null,
   "metadata": {
    "collapsed": true
   },
   "outputs": [],
   "source": []
  }
 ],
 "metadata": {
  "kernelspec": {
   "display_name": "Python 3",
   "language": "python",
   "name": "python3"
  },
  "language_info": {
   "codemirror_mode": {
    "name": "ipython",
    "version": 3
   },
   "file_extension": ".py",
   "mimetype": "text/x-python",
   "name": "python",
   "nbconvert_exporter": "python",
   "pygments_lexer": "ipython3",
   "version": "3.6.0"
  }
 },
 "nbformat": 4,
 "nbformat_minor": 2
}
