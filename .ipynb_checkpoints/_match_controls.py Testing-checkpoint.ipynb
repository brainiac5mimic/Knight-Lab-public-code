{
 "cells": [
  {
   "cell_type": "code",
   "execution_count": 1,
   "metadata": {
    "collapsed": true
   },
   "outputs": [],
   "source": [
    "import getopt, sys\n",
    "import pandas as pd\n",
    "import numpy as np\n",
    "import qiime2\n",
    "import time\n",
    "import unittest\n",
    "\n",
    "from qiime2 import Metadata\n",
    "\n",
    "\n",
    "\n",
    "\n",
    "import nose.tools\n",
    "\n",
    "from nose.tools import assert_almost_equal, assert_raises, assert_equals\n",
    "from pandas.util.testing import assert_frame_equal\n",
    "\n",
    "import match_controls"
   ]
  },
  {
   "cell_type": "markdown",
   "metadata": {},
   "source": [
    "## Testing get_user_input_query_lines\n",
    "Have test to confirm correct input does not raise exception. Test two is to make sure "
   ]
  },
  {
   "cell_type": "code",
   "execution_count": 2,
   "metadata": {
    "collapsed": false
   },
   "outputs": [
    {
     "name": "stdout",
     "output_type": "stream",
     "text": [
      "file path entered is unitTest_files/test_control.txt\n",
      "file path entered is unitTest_files/test_nulls.txt\n",
      "file path entered is unitTest_files/test_case.txt\n",
      "metadata file path entered is unitTest_files/test_data.txt\n",
      "file path entered is unitTest_files/test_match.txt\n",
      "file path entered is unitTest_files/test_keep.txt\n",
      "file path entered is None\n"
     ]
    }
   ],
   "source": [
    "def test_get_user_input_query_lines(  verbose,  inputDict ):\n",
    "    testInput_allNone = {\"inputdata\":None, \"keep\":None, \"control\":None, \"case\":None, \"nullvalues\":None, \"match\":None}\n",
    "    testInput_strNone = {\"inputdata\":None, \"keep\":\"None\", \"control\":None, \"case\":None, \"nullvalues\":None, \"match\":None}\n",
    "    try:\n",
    "        match_controls.get_user_input_query_lines(verbose, inputDict)\n",
    "    except:\n",
    "        raise Exception('Files that were meant to load did not.') \n",
    "    try:\n",
    "        match_controls.get_user_input_query_lines(verbose, testInput_allNone)\n",
    "    except:\n",
    "        raise Exception('Not all None files were skipped like they should be.')  \n",
    "\n",
    "        \n",
    "        \n",
    "        \n",
    "    assert_raises(ValueError, match_controls.get_user_input_query_lines, verbose, testInput_strNone) \n",
    "\n",
    "        \n",
    "        \n",
    "        \n",
    "        \n",
    "\n",
    "inputDict ={\"inputdata\":\"unitTest_files/test_data.txt\", \n",
    "            \"keep\":\"unitTest_files/test_keep.txt\", \n",
    "            \"control\":\"unitTest_files/test_control.txt\", \n",
    "            \"case\":\"unitTest_files/test_case.txt\", \n",
    "            \"nullvalues\":\"unitTest_files/test_nulls.txt\", \n",
    "            \"match\":\"unitTest_files/test_match.txt\"}\n",
    "test_get_user_input_query_lines(  True,  inputDict )\n"
   ]
  },
  {
   "cell_type": "markdown",
   "metadata": {},
   "source": [
    "## Testing Stable_Marriage"
   ]
  },
  {
   "cell_type": "code",
   "execution_count": 3,
   "metadata": {
    "collapsed": true
   },
   "outputs": [],
   "source": [
    "def test_orderDict():\n",
    "    test_unorderedDict = {'key_1':['a','b','c','d','e'], 'key_2':['a','c','e','d','b'],  'key_3':['b','e','e','c','a']}\n",
    "    correct_output = {'key_1':['a','b','c','d','e'], 'key_2':['a','b','c','d','e'], 'key_3':['a','b','c','e','e']}\n",
    "\n",
    "    test_error = {'key_4':['b','f','e','c','a']}\n",
    "\n",
    "    test_equal_freq = {'key_5':['c','b','e','d','a']}\n",
    "    correct_output_freq = {'key_5':['a','b','c','d','e']}\n",
    "\n",
    "    test_frequencies = {'a':1,'b':2,'c':3,'d':4,'e':5}\n",
    "    test_frequencies_equal = {'a':1,'b':3,'c':3,'d':3,'e':5}\n",
    "\n",
    "    if (match_controls.orderDict(test_unorderedDict, test_frequencies) != correct_output):\n",
    "        print('orderDict is not properly matching the output')\n",
    "        print(match_controls.orderDict(test_unorderedDict, test_frequencies))\n",
    "        print('should be')\n",
    "        print(correct_output)\n",
    "        return False\n",
    "    counter = 0\n",
    "    run_number = 1\n",
    "    while run_number <=100:\n",
    "        if (match_controls.orderDict(test_equal_freq, test_frequencies_equal) != correct_output_freq):\n",
    "            counter = counter + 1\n",
    "        run_number = run_number + 1\n",
    "    if counter>=0:\n",
    "        print('times out of 100 that the order was wrong = %s'%(counter))\n",
    "    try:\n",
    "        match_controls.orderDict(test_error, test_frequencies)\n",
    "        return False\n",
    "    except:\n",
    "        return True\n",
    "    return True\n",
    "\n",
    "\n",
    "\n",
    "\n",
    "\n",
    "\n"
   ]
  },
  {
   "cell_type": "code",
   "execution_count": 4,
   "metadata": {
    "collapsed": true
   },
   "outputs": [],
   "source": [
    "def test_order_keys():\n",
    "    test_unorderedDict={'2':['a','b'], '1':['a'],  '3':['a','b','c'],  '5':['a','b','c','d','e'], '4':['a','b','c','d']}\n",
    "    correct_output=['5','4','3','2','1']\n",
    "    if (match_controls.order_keys(test_unorderedDict) != correct_output):\n",
    "        print('order_keys is not properly matching the output')\n",
    "        print(match_controls.order_keys(test_unorderedDict))\n",
    "        print('should be')\n",
    "        print(correct_output)\n",
    "        return False\n",
    "\n",
    "    test_unorderedDict_equ_freq={'2b':['a','b'], '1':['a'], '2a':['a', 'c'],  '3':['a','b','c'],  '5':['a','b','c','d','e'], '4':['a','b','c','d']}\n",
    "    correct_output_equ_freq=['5','4','3','2a', '2b', '1']\n",
    "    if (match_controls.order_keys(test_unorderedDict_equ_freq) != correct_output_equ_freq):\n",
    "        print('order_keys is not properly matching the output')\n",
    "        print(match_controls.order_keys(test_unorderedDict_equ_freq))\n",
    "        print('should be')\n",
    "        print(correct_output_equ_freq)\n",
    "        return False\n",
    "    return True"
   ]
  },
  {
   "cell_type": "code",
   "execution_count": 5,
   "metadata": {
    "collapsed": true
   },
   "outputs": [],
   "source": [
    "def test_stable_marriage():\n",
    "    case_dictionary = {'14': ['15', '17'], '25': [], '19': ['20'], '21':[], '6': [], '9': ['10'], '3': [], '7': ['8'], '18': ['17'], '23': [], '16': ['13', '15'], '27': [], '11': ['12']}\n",
    "    control_match_count_dictionary = {'10': 1, '15': 2, '17': 2, '12': 1, '8': 1, '20': 1, '13': 1}\n",
    "    case_match_count_dictionary = {'23': 0, '6': 0, '14': 2, '21': 0, '16': 2, '11': 1, '19': 1, '9': 1, '27': 0, '7': 1, '3': 0, '25': 0, '18': 1}\n",
    "\n",
    "    case_to_control_match = match_controls.stable_marriage(case_dictionary, control_match_count_dictionary, case_match_count_dictionary)\n",
    "    test_output  = {'15': '16', '12': '11', '8': '7', '10': '9', '17': '18', '20': '19'}\n",
    "    if case_to_control_match != test_output:\n",
    "        print(\"stable marriage fails. \\nOutput should be {'15': '16', '12': '11', '8': '7', '10': '9', '17': '18', '20': '19'} \\nOutput was\")\n",
    "        print(case_to_control_match)\n",
    "\n",
    "        return False\n",
    "    return True"
   ]
  },
  {
   "cell_type": "markdown",
   "metadata": {},
   "source": [
    "## Testing four steps of Everything"
   ]
  },
  {
   "cell_type": "code",
   "execution_count": 6,
   "metadata": {
    "collapsed": true
   },
   "outputs": [],
   "source": [
    "def test_mainControler(verbose, inputdata, keep, control, case, nullvalues, match, output, csvdata_keep, \n",
    "csvdata_case_control, csvdata_filter, csvdata_match):\n",
    "    return False"
   ]
  },
  {
   "cell_type": "code",
   "execution_count": 7,
   "metadata": {
    "collapsed": true
   },
   "outputs": [],
   "source": [
    "\n",
    "def test_match_samples(verbose, inputData, match, csvdata_match):\n",
    "    csvdata = matchedMD.to_dataframe()\n",
    "    csvdata_match[\"matched_to\"]= csvdata_match[\"matched_to\"].astype(\"int64\")\n",
    "    csvdata_match[\"age_years\"]= csvdata_match[\"age_years\"].astype(\"int64\")\n",
    "    csvdata[\"matched_to\"]= csvdata[\"matched_to\"].astype(\"int64\")\n",
    "    csvdata[\"age_years\"]= csvdata[\"age_years\"].astype(\"int64\")\n",
    "\n",
    "\n",
    "    print('test---------- age_years are the same = %s'%( csvdata_match[\"age_years\"].equals(csvdata[\"age_years\"] )))\n",
    "    #print( assert_frame_equal(csvdata, csvdata_match) )\n",
    "    if csvdata_match[\"age_years\"].equals(csvdata[\"age_years\"]) != True:\n",
    "        print(\"age_years columns don't match\")\n",
    "        print(csvdata[\"age_years\"])\n",
    "        print(csvdata_match[\"age_years\"])\n",
    "    try:\n",
    "        assert_frame_equal(csvdata, csvdata_match)\n",
    "\n",
    "    except:\n",
    "        return False\n",
    "    return True"
   ]
  },
  {
   "cell_type": "code",
   "execution_count": 18,
   "metadata": {
    "collapsed": true
   },
   "outputs": [],
   "source": [
    "def test_keep_samples(verbose, inputData, keep, csvdata_keep):\n",
    "    afterExclusionMD = match_controls.keep_samples(verbose, inputData, keep)\n",
    "    csvdata = afterExclusionMD.to_dataframe()\n",
    "    return assert_frame_equal(csvdata, csvdata_keep)\n",
    "    try:\n",
    "        assert_frame_equal(csvdata, csvdata_keep)\n",
    "        return True\n",
    "    except:\n",
    "        return False"
   ]
  },
  {
   "cell_type": "code",
   "execution_count": 9,
   "metadata": {
    "collapsed": true
   },
   "outputs": [],
   "source": [
    "def test_determine_cases_and_controls(verbose, inputData, case, control, csvdata_case_control):\n",
    "    csvdata = case_controlMD.to_dataframe()\n",
    "    '''print(csvdata)\n",
    "    print(csvdata_case_control)\n",
    "    print( assert_frame_equal(csvdata, csvdata_case_control) )\n",
    "    '''\n",
    "    try:\n",
    "        assert_frame_equal(csvdata, csvdata_case_control)\n",
    "    except:\n",
    "        return False\n",
    "    return True"
   ]
  },
  {
   "cell_type": "code",
   "execution_count": 10,
   "metadata": {
    "collapsed": true
   },
   "outputs": [],
   "source": [
    "\n",
    "def test_filter_prep_for_matchMD(verbose, prepped_for_matchMD, nullValues, csvdata_filter):\n",
    "\n",
    "    csvdata = prepped_for_matchMD.to_dataframe()\n",
    "\n",
    "    try:\n",
    "        assert_frame_equal(csvdata, csvdata_filter)\n",
    "    except:\n",
    "        return False\n",
    "    return True\n"
   ]
  },
  {
   "cell_type": "code",
   "execution_count": 19,
   "metadata": {
    "collapsed": false
   },
   "outputs": [
    {
     "ename": "AssertionError",
     "evalue": "DataFrame Expected type <class 'pandas.core.frame.DataFrame'>, found <class 'list'> instead",
     "output_type": "error",
     "traceback": [
      "\u001b[0;31m---------------------------------------------------------------------------\u001b[0m",
      "\u001b[0;31mAssertionError\u001b[0m                            Traceback (most recent call last)",
      "\u001b[0;32m<ipython-input-19-9fc68a0f8973>\u001b[0m in \u001b[0;36m<module>\u001b[0;34m()\u001b[0m\n\u001b[1;32m     17\u001b[0m \u001b[0;34m\u001b[0m\u001b[0m\n\u001b[1;32m     18\u001b[0m \u001b[0;34m\u001b[0m\u001b[0m\n\u001b[0;32m---> 19\u001b[0;31m \u001b[0mprint\u001b[0m\u001b[0;34m(\u001b[0m\u001b[0mtest_keep_samples\u001b[0m\u001b[0;34m(\u001b[0m\u001b[0mverbose\u001b[0m\u001b[0;34m,\u001b[0m \u001b[0minputData\u001b[0m\u001b[0;34m,\u001b[0m \u001b[0mkeep\u001b[0m\u001b[0;34m,\u001b[0m \u001b[0mcsvdata_keep\u001b[0m\u001b[0;34m)\u001b[0m\u001b[0;34m)\u001b[0m\u001b[0;34m\u001b[0m\u001b[0m\n\u001b[0m\u001b[1;32m     20\u001b[0m \u001b[0;34m\u001b[0m\u001b[0m\n\u001b[1;32m     21\u001b[0m \u001b[0;34m\u001b[0m\u001b[0m\n",
      "\u001b[0;32m<ipython-input-18-a962547098ea>\u001b[0m in \u001b[0;36mtest_keep_samples\u001b[0;34m(verbose, inputData, keep, csvdata_keep)\u001b[0m\n\u001b[1;32m      2\u001b[0m     \u001b[0mafterExclusionMD\u001b[0m \u001b[0;34m=\u001b[0m \u001b[0mmatch_controls\u001b[0m\u001b[0;34m.\u001b[0m\u001b[0mkeep_samples\u001b[0m\u001b[0;34m(\u001b[0m\u001b[0mverbose\u001b[0m\u001b[0;34m,\u001b[0m \u001b[0minputData\u001b[0m\u001b[0;34m,\u001b[0m \u001b[0mkeep\u001b[0m\u001b[0;34m)\u001b[0m\u001b[0;34m\u001b[0m\u001b[0m\n\u001b[1;32m      3\u001b[0m     \u001b[0mcsvdata\u001b[0m \u001b[0;34m=\u001b[0m \u001b[0mafterExclusionMD\u001b[0m\u001b[0;34m.\u001b[0m\u001b[0mto_dataframe\u001b[0m\u001b[0;34m(\u001b[0m\u001b[0;34m)\u001b[0m\u001b[0;34m\u001b[0m\u001b[0m\n\u001b[0;32m----> 4\u001b[0;31m     \u001b[0;32mreturn\u001b[0m \u001b[0massert_frame_equal\u001b[0m\u001b[0;34m(\u001b[0m\u001b[0mcsvdata\u001b[0m\u001b[0;34m,\u001b[0m \u001b[0mcsvdata_keep\u001b[0m\u001b[0;34m)\u001b[0m\u001b[0;34m\u001b[0m\u001b[0m\n\u001b[0m\u001b[1;32m      5\u001b[0m     \u001b[0;32mtry\u001b[0m\u001b[0;34m:\u001b[0m\u001b[0;34m\u001b[0m\u001b[0m\n\u001b[1;32m      6\u001b[0m         \u001b[0massert_frame_equal\u001b[0m\u001b[0;34m(\u001b[0m\u001b[0mcsvdata\u001b[0m\u001b[0;34m,\u001b[0m \u001b[0mcsvdata_keep\u001b[0m\u001b[0;34m)\u001b[0m\u001b[0;34m\u001b[0m\u001b[0m\n",
      "\u001b[0;32m~/anaconda3/envs/qiime2-2018.6/lib/python3.5/site-packages/pandas/util/testing.py\u001b[0m in \u001b[0;36massert_frame_equal\u001b[0;34m(left, right, check_dtype, check_index_type, check_column_type, check_frame_type, check_less_precise, check_names, by_blocks, check_exact, check_datetimelike_compat, check_categorical, check_like, obj)\u001b[0m\n\u001b[1;32m   1294\u001b[0m \u001b[0;34m\u001b[0m\u001b[0m\n\u001b[1;32m   1295\u001b[0m     \u001b[0;31m# instance validation\u001b[0m\u001b[0;34m\u001b[0m\u001b[0;34m\u001b[0m\u001b[0m\n\u001b[0;32m-> 1296\u001b[0;31m     \u001b[0m_check_isinstance\u001b[0m\u001b[0;34m(\u001b[0m\u001b[0mleft\u001b[0m\u001b[0;34m,\u001b[0m \u001b[0mright\u001b[0m\u001b[0;34m,\u001b[0m \u001b[0mDataFrame\u001b[0m\u001b[0;34m)\u001b[0m\u001b[0;34m\u001b[0m\u001b[0m\n\u001b[0m\u001b[1;32m   1297\u001b[0m \u001b[0;34m\u001b[0m\u001b[0m\n\u001b[1;32m   1298\u001b[0m     \u001b[0;32mif\u001b[0m \u001b[0mcheck_frame_type\u001b[0m\u001b[0;34m:\u001b[0m\u001b[0;34m\u001b[0m\u001b[0m\n",
      "\u001b[0;32m~/anaconda3/envs/qiime2-2018.6/lib/python3.5/site-packages/pandas/util/testing.py\u001b[0m in \u001b[0;36m_check_isinstance\u001b[0;34m(left, right, cls)\u001b[0m\n\u001b[1;32m    295\u001b[0m     \u001b[0;32mif\u001b[0m \u001b[0;32mnot\u001b[0m \u001b[0misinstance\u001b[0m\u001b[0;34m(\u001b[0m\u001b[0mright\u001b[0m\u001b[0;34m,\u001b[0m \u001b[0mcls\u001b[0m\u001b[0;34m)\u001b[0m\u001b[0;34m:\u001b[0m\u001b[0;34m\u001b[0m\u001b[0m\n\u001b[1;32m    296\u001b[0m         raise AssertionError(err_msg.format(name=cls_name, exp_type=cls,\n\u001b[0;32m--> 297\u001b[0;31m                                             act_type=type(right)))\n\u001b[0m\u001b[1;32m    298\u001b[0m \u001b[0;34m\u001b[0m\u001b[0m\n\u001b[1;32m    299\u001b[0m \u001b[0;34m\u001b[0m\u001b[0m\n",
      "\u001b[0;31mAssertionError\u001b[0m: DataFrame Expected type <class 'pandas.core.frame.DataFrame'>, found <class 'list'> instead"
     ]
    }
   ],
   "source": [
    "inputData = Metadata.load(\"unitTest_files/test_data.txt\")\n",
    "\n",
    "keep = open(\"unitTest_files/test_keep.txt\",'r').readlines()  \n",
    "control = open(\"unitTest_files/test_control.txt\",'r').readlines()  \n",
    "case = open(\"unitTest_files/test_case.txt\",'r').readlines()  \n",
    "nullvalues = open(\"unitTest_files/test_nulls.txt\",'r').readlines()  \n",
    "match = open(\"unitTest_files/test_match.txt\",'r').readlines()  \n",
    "\n",
    "\n",
    "csvdata_keep = open(\"unitTest_files/unit_keep.csv\",'r').readlines()  \n",
    "csvdata_case_control = open(\"unitTest_files/unit_control.csv\",'r').readlines()  \n",
    "csvdata_filter = open(\"unitTest_files/unit_filtered.csv\",'r').readlines()  \n",
    "csvdata_match = open(\"unitTest_files/unit_match.csv\",'r').readlines()  \n",
    "\n",
    "verbose = False\n",
    "\n",
    "\n",
    "\n",
    "\n",
    "\n",
    "print(test_keep_samples(verbose, inputData, keep, csvdata_keep))\n",
    "\n",
    "\n",
    "\n",
    "\n"
   ]
  },
  {
   "cell_type": "code",
   "execution_count": null,
   "metadata": {
    "collapsed": true
   },
   "outputs": [],
   "source": []
  }
 ],
 "metadata": {
  "kernelspec": {
   "display_name": "Python 3",
   "language": "python",
   "name": "python3"
  },
  "language_info": {
   "codemirror_mode": {
    "name": "ipython",
    "version": 3
   },
   "file_extension": ".py",
   "mimetype": "text/x-python",
   "name": "python",
   "nbconvert_exporter": "python",
   "pygments_lexer": "ipython3",
   "version": "3.6.0"
  }
 },
 "nbformat": 4,
 "nbformat_minor": 2
}
