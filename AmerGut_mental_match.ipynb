{
 "cells": [
  {
   "cell_type": "code",
   "execution_count": 1,
   "metadata": {},
   "outputs": [
    {
     "name": "stdout",
     "output_type": "stream",
     "text": [
      "start\n"
     ]
    }
   ],
   "source": [
    "'''\n",
    "Created on Jun 24, 2018\n",
    "\n",
    "@author: Mark Holton\n",
    "'''\n",
    "\n",
    "import sys\n",
    "\n",
    "\n",
    "import pandas as pd\n",
    "import numpy as np\n",
    "\n",
    "\n",
    "print(\"start\")"
   ]
  },
  {
   "cell_type": "markdown",
   "metadata": {},
   "source": [
    "Comments are for code below\n",
    "Reads a text file in and converts it to a dataframe. Due to the large size of the file a smaller file is created with hard coded columns for testing."
   ]
  },
  {
   "cell_type": "code",
   "execution_count": 2,
   "metadata": {
    "scrolled": false
   },
   "outputs": [
    {
     "name": "stderr",
     "output_type": "stream",
     "text": [
      "/home/markholton/anaconda3/lib/python3.6/site-packages/IPython/core/interactiveshell.py:2785: DtypeWarning: Columns (0,66) have mixed types. Specify dtype option on import or set low_memory=False.\n",
      "  interactivity=interactivity, compiler=compiler, result=result)\n"
     ]
    }
   ],
   "source": [
    "#read the file in and\n",
    "textfile = \"./ag_map_with_alpha.txt\"\n",
    "originalDF=pd.read_csv(textfile,\n",
    "                        sep = \"\\t\")\n",
    "masterDF = originalDF.copy()\n",
    "masterDF_short=masterDF.loc[0:20,['#SampleID',  \n",
    "                                            'age_years',    \n",
    "                                            'antibiotic_history',    \n",
    "                                            'bmi_cat',  \n",
    "                                            'depression_bipolar_schizophrenia', \n",
    "                                            'mental_illness_type_depression', \n",
    "                                            'smoking_frequency']].set_index('#SampleID', drop = False)\n",
    "masterDF = masterDF_short.copy()  \n"
   ]
  },
  {
   "cell_type": "markdown",
   "metadata": {},
   "source": []
  },
  {
   "cell_type": "markdown",
   "metadata": {},
   "source": [
    "Reads in user submited txt files and ask for user input to determine if data in the exclude file is to be filtered out or used to exclude everything that does not match it."
   ]
  },
  {
   "cell_type": "code",
   "execution_count": 3,
   "metadata": {},
   "outputs": [
    {
     "data": {
      "text/plain": [
       "'print(user_input_exclude)\\nprint(user_input_exclude_in_match)\\nprint(user_input_control)\\nprint(user_input_experiment)\\nprint(user_input_match)'"
      ]
     },
     "execution_count": 3,
     "metadata": {},
     "output_type": "execute_result"
    }
   ],
   "source": [
    "user_input_exclude = 'exclude' # input(\"Filename for file with column and data to exclude: \")\n",
    "user_input_exclude_in_match = False # input('Is the \"exclude\" data to be excluded or kept (T for excluded and F for kept') == 'T'\n",
    "user_input_control = 'control' # input(\"Filename for file with column and data to determine control: \")\n",
    "user_input_experiment = 'experiment' # input(\"Filename for file with column and data to determine experimental: \")\n",
    "user_input_match = 'match' # input(\"Filename for file with columns, type of value, and offset if needed to match samples: \")\n",
    "\n",
    "\n",
    "user_input_exclude = './%s.txt'%(user_input_exclude)\n",
    "user_input_control = './%s.txt'%(user_input_control)\n",
    "user_input_experiment = './%s.txt'%(user_input_experiment )\n",
    "user_input_match= './%s.txt'%(user_input_match)\n",
    "\n",
    "\n",
    "'''print(user_input_exclude)\n",
    "print(user_input_exclude_in_match)\n",
    "print(user_input_control)\n",
    "print(user_input_experiment)\n",
    "print(user_input_match)'''"
   ]
  },
  {
   "cell_type": "markdown",
   "metadata": {},
   "source": [
    "Turns the user files into dataframes"
   ]
  },
  {
   "cell_type": "code",
   "execution_count": 4,
   "metadata": {
    "scrolled": true
   },
   "outputs": [],
   "source": [
    "user_input_excludeDF = pd.read_csv(user_input_exclude, sep = \"\\t\")\n",
    "user_input_controlDF = pd.read_csv(user_input_control, sep = \"\\t\")\n",
    "user_input_experimentDF = pd.read_csv(user_input_experiment, sep = \"\\t\")\n",
    "user_input_matchDF = pd.read_csv(user_input_match, sep = \"\\t\")\n",
    "\n"
   ]
  },
  {
   "cell_type": "markdown",
   "metadata": {},
   "source": [
    "Filters out unwanted rows based on values in chosen columns"
   ]
  },
  {
   "cell_type": "code",
   "execution_count": 5,
   "metadata": {},
   "outputs": [
    {
     "name": "stdout",
     "output_type": "stream",
     "text": [
      "rows  = 1, columns = 1\n",
      "antibiotic_history\n"
     ]
    }
   ],
   "source": [
    "inputDF = user_input_excludeDF.copy()\n",
    "exclude_if_match = user_input_exclude_in_match\n",
    "    \n",
    "rows_num , columns_num = inputDF.shape\n",
    "print('rows  = %s, columns = %s'%(rows_num, columns_num) )\n",
    "r_counter = 0\n",
    "c_counter = 0\n",
    "\n",
    "while c_counter < columns_num:\n",
    "    column_name = inputDF.columns[c_counter]\n",
    "    print(column_name)\n",
    "    masterDF = masterDF[\n",
    "                masterDF[column_name].isin( inputDF[column_name].tolist() ) \n",
    "                == \n",
    "                ( not exclude_if_match ) ]\n",
    "    c_counter = c_counter + 1\n",
    "    \n",
    "#masterDF = masterDF.reset_index(drop=True)\n",
    "excludeDF = masterDF.copy()    \n"
   ]
  },
  {
   "cell_type": "markdown",
   "metadata": {},
   "source": [
    "Lables the samples based on if they are control or not"
   ]
  },
  {
   "cell_type": "code",
   "execution_count": 6,
   "metadata": {},
   "outputs": [
    {
     "name": "stdout",
     "output_type": "stream",
     "text": [
      "rows  = 1, columns = 2\n"
     ]
    }
   ],
   "source": [
    "masterDF = excludeDF.copy()\n",
    "\n",
    "inputDF = user_input_controlDF.copy()\n",
    "    \n",
    "rows_num , columns_num = inputDF.shape\n",
    "print('rows  = %s, columns = %s'%(rows_num, columns_num) )\n",
    "r_counter = 0\n",
    "c_counter = 0\n",
    "masterDF['case_control'] = False\n",
    "while c_counter < columns_num:\n",
    "    column_name = inputDF.columns[c_counter]\n",
    "    masterDF['case_control'] = np.where( masterDF['case_control'].isin([True]) | masterDF[column_name].isin( inputDF[column_name].tolist() ).isin([True]), True, False)\n",
    "    \n",
    "    c_counter = c_counter + 1\n",
    "\n",
    "masterDF['case_control'] = masterDF['case_control'].replace(True, 'control')   \n",
    "masterDF['case_control'] = masterDF['case_control'].replace(False, 'Unspecified' )\n",
    "\n",
    "controlDF = masterDF.copy()\n"
   ]
  },
  {
   "cell_type": "markdown",
   "metadata": {},
   "source": [
    "Lables the samples based on if they are cases or not"
   ]
  },
  {
   "cell_type": "code",
   "execution_count": 7,
   "metadata": {},
   "outputs": [
    {
     "name": "stdout",
     "output_type": "stream",
     "text": [
      "rows  = 3, columns = 2\n"
     ]
    }
   ],
   "source": [
    "masterDF = excludeDF.copy()\n",
    "\n",
    "inputDF = user_input_experimentDF.copy()\n",
    "    \n",
    "rows_num , columns_num = inputDF.shape\n",
    "print('rows  = %s, columns = %s'%(rows_num, columns_num) )\n",
    "r_counter = 0\n",
    "c_counter = 0\n",
    "\n",
    "\n",
    "masterDF['case_control'] = False\n",
    "while c_counter < columns_num:\n",
    "    column_name = inputDF.columns[c_counter]\n",
    "    masterDF['case_control'] = np.where( masterDF['case_control'].isin([True]) | masterDF[column_name].isin( inputDF[column_name].tolist() ).isin([True]), True, False)\n",
    "    \n",
    "    c_counter = c_counter + 1\n",
    "\n",
    "masterDF['case_control'] = masterDF['case_control'].replace(True, 'case')   \n",
    "masterDF['case_control'] = masterDF['case_control'].replace(False, 'Unspecified')\n",
    "\n",
    "\n",
    "    \n",
    "\n",
    "experDF = masterDF.copy()\n"
   ]
  },
  {
   "cell_type": "markdown",
   "metadata": {},
   "source": [
    "Combines the two case_control columns into one column using pandas.DataFrame.where then makes this the master dataframe's case_control column"
   ]
  },
  {
   "cell_type": "code",
   "execution_count": 8,
   "metadata": {},
   "outputs": [],
   "source": [
    "masterDF['case_control'] = controlDF['case_control'].where( \n",
    "                                                            controlDF['case_control'].isin(['control']), \n",
    "                                                            experDF['case_control'])\n",
    "\n",
    "case_controlDF = masterDF.copy()"
   ]
  },
  {
   "cell_type": "markdown",
   "metadata": {},
   "source": [
    "Filters out data with match columns left unspecified"
   ]
  },
  {
   "cell_type": "code",
   "execution_count": 9,
   "metadata": {},
   "outputs": [
    {
     "name": "stdout",
     "output_type": "stream",
     "text": [
      "rows  = 2, columns = 3\n"
     ]
    }
   ],
   "source": [
    "masterDF = case_controlDF.copy()\n",
    "\n",
    "inputDF = user_input_matchDF.copy()\n",
    "    \n",
    "rows_num , columns_num = inputDF.shape\n",
    "print('rows  = %s, columns = %s'%(rows_num, columns_num) )\n",
    "r_counter = 0\n",
    "c_counter = 0\n",
    "while c_counter < columns_num:\n",
    "        column_name = inputDF.columns[c_counter]\n",
    "        masterDF = masterDF.where(masterDF[column_name] != 'Unspecified')\n",
    "        c_counter = c_counter + 1\n",
    "masterDF = masterDF.dropna()\n",
    "#masterDF = masterDF.reset_index(drop=True)\n",
    "\n",
    "        \n",
    "match_filteredDF = masterDF.copy()\n",
    "#match_filteredDF"
   ]
  },
  {
   "cell_type": "code",
   "execution_count": 10,
   "metadata": {},
   "outputs": [],
   "source": [
    "def match_to_master(master_frame, match_frame, case_index, case_row):\n",
    "    print(match_frame)\n",
    "    for index, row in match_frame.iterrows():\n",
    "        print(index)\n",
    "        master_frame.at[index, 'matched to'] = case_row['#SampleID']\n",
    "        master_frame.at[case_index, 'matched to'] = 'best match place holder'\n",
    "    \n",
    "    \n",
    "    return master_frame"
   ]
  },
  {
   "cell_type": "markdown",
   "metadata": {},
   "source": [
    "Matches samples labled experiment to control samples"
   ]
  },
  {
   "cell_type": "code",
   "execution_count": 11,
   "metadata": {
    "scrolled": true
   },
   "outputs": [
    {
     "name": "stdout",
     "output_type": "stream",
     "text": [
      "rows  = 2, columns = 3\n",
      "bmi_cat\n",
      "string\n",
      "age_years\n",
      "num\n",
      "smoking_frequency\n",
      "string\n",
      "                       #SampleID age_years  \\\n",
      "#SampleID                                    \n",
      "10317.000030322  10317.000030322      43.0   \n",
      "\n",
      "                                             antibiotic_history bmi_cat  \\\n",
      "#SampleID                                                                 \n",
      "10317.000030322  I have not taken antibiotics in the past year.  Normal   \n",
      "\n",
      "                depression_bipolar_schizophrenia  \\\n",
      "#SampleID                                          \n",
      "10317.000030322     I do not have this condition   \n",
      "\n",
      "                mental_illness_type_depression smoking_frequency case_control  \\\n",
      "#SampleID                                                                       \n",
      "10317.000030322                    Unspecified             Never      control   \n",
      "\n",
      "                matched to  \n",
      "#SampleID                   \n",
      "10317.000030322       none  \n",
      "10317.000030322\n"
     ]
    },
    {
     "data": {
      "text/html": [
       "<div>\n",
       "<style scoped>\n",
       "    .dataframe tbody tr th:only-of-type {\n",
       "        vertical-align: middle;\n",
       "    }\n",
       "\n",
       "    .dataframe tbody tr th {\n",
       "        vertical-align: top;\n",
       "    }\n",
       "\n",
       "    .dataframe thead th {\n",
       "        text-align: right;\n",
       "    }\n",
       "</style>\n",
       "<table border=\"1\" class=\"dataframe\">\n",
       "  <thead>\n",
       "    <tr style=\"text-align: right;\">\n",
       "      <th></th>\n",
       "      <th>#SampleID</th>\n",
       "      <th>age_years</th>\n",
       "      <th>antibiotic_history</th>\n",
       "      <th>bmi_cat</th>\n",
       "      <th>depression_bipolar_schizophrenia</th>\n",
       "      <th>mental_illness_type_depression</th>\n",
       "      <th>smoking_frequency</th>\n",
       "      <th>case_control</th>\n",
       "      <th>matched to</th>\n",
       "    </tr>\n",
       "    <tr>\n",
       "      <th>#SampleID</th>\n",
       "      <th></th>\n",
       "      <th></th>\n",
       "      <th></th>\n",
       "      <th></th>\n",
       "      <th></th>\n",
       "      <th></th>\n",
       "      <th></th>\n",
       "      <th></th>\n",
       "      <th></th>\n",
       "    </tr>\n",
       "  </thead>\n",
       "  <tbody>\n",
       "    <tr>\n",
       "      <th>10317.000049761</th>\n",
       "      <td>10317.000049761</td>\n",
       "      <td>52</td>\n",
       "      <td>I have not taken antibiotics in the past year.</td>\n",
       "      <td>Overweight</td>\n",
       "      <td>Unspecified</td>\n",
       "      <td>Unspecified</td>\n",
       "      <td>Never</td>\n",
       "      <td>Unspecified</td>\n",
       "      <td>none</td>\n",
       "    </tr>\n",
       "    <tr>\n",
       "      <th>10317.000030322</th>\n",
       "      <td>10317.000030322</td>\n",
       "      <td>43.0</td>\n",
       "      <td>I have not taken antibiotics in the past year.</td>\n",
       "      <td>Normal</td>\n",
       "      <td>I do not have this condition</td>\n",
       "      <td>Unspecified</td>\n",
       "      <td>Never</td>\n",
       "      <td>control</td>\n",
       "      <td>10317.000029448</td>\n",
       "    </tr>\n",
       "    <tr>\n",
       "      <th>10317.000028857</th>\n",
       "      <td>10317.000028857</td>\n",
       "      <td>56.0</td>\n",
       "      <td>I have not taken antibiotics in the past year.</td>\n",
       "      <td>Overweight</td>\n",
       "      <td>I do not have this condition</td>\n",
       "      <td>Unspecified</td>\n",
       "      <td>Never</td>\n",
       "      <td>control</td>\n",
       "      <td>none</td>\n",
       "    </tr>\n",
       "    <tr>\n",
       "      <th>10317.000038189</th>\n",
       "      <td>10317.000038189</td>\n",
       "      <td>39.0</td>\n",
       "      <td>I have not taken antibiotics in the past year.</td>\n",
       "      <td>Overweight</td>\n",
       "      <td>Unspecified</td>\n",
       "      <td>Unspecified</td>\n",
       "      <td>Never</td>\n",
       "      <td>Unspecified</td>\n",
       "      <td>none</td>\n",
       "    </tr>\n",
       "    <tr>\n",
       "      <th>10317.000036487</th>\n",
       "      <td>10317.000036487</td>\n",
       "      <td>46.0</td>\n",
       "      <td>I have not taken antibiotics in the past year.</td>\n",
       "      <td>Obese</td>\n",
       "      <td>I do not have this condition</td>\n",
       "      <td>Unspecified</td>\n",
       "      <td>Never</td>\n",
       "      <td>control</td>\n",
       "      <td>none</td>\n",
       "    </tr>\n",
       "    <tr>\n",
       "      <th>10317.000030166</th>\n",
       "      <td>10317.000030166</td>\n",
       "      <td>58.0</td>\n",
       "      <td>I have not taken antibiotics in the past year.</td>\n",
       "      <td>Overweight</td>\n",
       "      <td>I do not have this condition</td>\n",
       "      <td>Unspecified</td>\n",
       "      <td>Never</td>\n",
       "      <td>control</td>\n",
       "      <td>none</td>\n",
       "    </tr>\n",
       "    <tr>\n",
       "      <th>10317.000023295</th>\n",
       "      <td>10317.000023295</td>\n",
       "      <td>56.0</td>\n",
       "      <td>I have not taken antibiotics in the past year.</td>\n",
       "      <td>Normal</td>\n",
       "      <td>I do not have this condition</td>\n",
       "      <td>Unspecified</td>\n",
       "      <td>Never</td>\n",
       "      <td>control</td>\n",
       "      <td>none</td>\n",
       "    </tr>\n",
       "    <tr>\n",
       "      <th>10317.000001589</th>\n",
       "      <td>10317.000001589</td>\n",
       "      <td>58.0</td>\n",
       "      <td>I have not taken antibiotics in the past year.</td>\n",
       "      <td>Normal</td>\n",
       "      <td>Unspecified</td>\n",
       "      <td>Unspecified</td>\n",
       "      <td>Never</td>\n",
       "      <td>Unspecified</td>\n",
       "      <td>none</td>\n",
       "    </tr>\n",
       "    <tr>\n",
       "      <th>10317.000030991</th>\n",
       "      <td>10317.000030991</td>\n",
       "      <td>63.0</td>\n",
       "      <td>I have not taken antibiotics in the past year.</td>\n",
       "      <td>Overweight</td>\n",
       "      <td>I do not have this condition</td>\n",
       "      <td>Unspecified</td>\n",
       "      <td>Never</td>\n",
       "      <td>control</td>\n",
       "      <td>none</td>\n",
       "    </tr>\n",
       "    <tr>\n",
       "      <th>10317.000021163</th>\n",
       "      <td>10317.000021163</td>\n",
       "      <td>56.0</td>\n",
       "      <td>I have not taken antibiotics in the past year.</td>\n",
       "      <td>Normal</td>\n",
       "      <td>I do not have this condition</td>\n",
       "      <td>Unspecified</td>\n",
       "      <td>Never</td>\n",
       "      <td>control</td>\n",
       "      <td>none</td>\n",
       "    </tr>\n",
       "    <tr>\n",
       "      <th>10317.000059006</th>\n",
       "      <td>10317.000059006</td>\n",
       "      <td>64</td>\n",
       "      <td>I have not taken antibiotics in the past year.</td>\n",
       "      <td>Normal</td>\n",
       "      <td>Unspecified</td>\n",
       "      <td>Unspecified</td>\n",
       "      <td>Never</td>\n",
       "      <td>Unspecified</td>\n",
       "      <td>none</td>\n",
       "    </tr>\n",
       "    <tr>\n",
       "      <th>10317.000029448</th>\n",
       "      <td>10317.000029448</td>\n",
       "      <td>44.0</td>\n",
       "      <td>I have not taken antibiotics in the past year.</td>\n",
       "      <td>Normal</td>\n",
       "      <td>Self-diagnosed</td>\n",
       "      <td>Unspecified</td>\n",
       "      <td>Never</td>\n",
       "      <td>case</td>\n",
       "      <td>best match place holder</td>\n",
       "    </tr>\n",
       "  </tbody>\n",
       "</table>\n",
       "</div>"
      ],
      "text/plain": [
       "                       #SampleID age_years  \\\n",
       "#SampleID                                    \n",
       "10317.000049761  10317.000049761        52   \n",
       "10317.000030322  10317.000030322      43.0   \n",
       "10317.000028857  10317.000028857      56.0   \n",
       "10317.000038189  10317.000038189      39.0   \n",
       "10317.000036487  10317.000036487      46.0   \n",
       "10317.000030166  10317.000030166      58.0   \n",
       "10317.000023295  10317.000023295      56.0   \n",
       "10317.000001589  10317.000001589      58.0   \n",
       "10317.000030991  10317.000030991      63.0   \n",
       "10317.000021163  10317.000021163      56.0   \n",
       "10317.000059006  10317.000059006        64   \n",
       "10317.000029448  10317.000029448      44.0   \n",
       "\n",
       "                                             antibiotic_history     bmi_cat  \\\n",
       "#SampleID                                                                     \n",
       "10317.000049761  I have not taken antibiotics in the past year.  Overweight   \n",
       "10317.000030322  I have not taken antibiotics in the past year.      Normal   \n",
       "10317.000028857  I have not taken antibiotics in the past year.  Overweight   \n",
       "10317.000038189  I have not taken antibiotics in the past year.  Overweight   \n",
       "10317.000036487  I have not taken antibiotics in the past year.       Obese   \n",
       "10317.000030166  I have not taken antibiotics in the past year.  Overweight   \n",
       "10317.000023295  I have not taken antibiotics in the past year.      Normal   \n",
       "10317.000001589  I have not taken antibiotics in the past year.      Normal   \n",
       "10317.000030991  I have not taken antibiotics in the past year.  Overweight   \n",
       "10317.000021163  I have not taken antibiotics in the past year.      Normal   \n",
       "10317.000059006  I have not taken antibiotics in the past year.      Normal   \n",
       "10317.000029448  I have not taken antibiotics in the past year.      Normal   \n",
       "\n",
       "                depression_bipolar_schizophrenia  \\\n",
       "#SampleID                                          \n",
       "10317.000049761                      Unspecified   \n",
       "10317.000030322     I do not have this condition   \n",
       "10317.000028857     I do not have this condition   \n",
       "10317.000038189                      Unspecified   \n",
       "10317.000036487     I do not have this condition   \n",
       "10317.000030166     I do not have this condition   \n",
       "10317.000023295     I do not have this condition   \n",
       "10317.000001589                      Unspecified   \n",
       "10317.000030991     I do not have this condition   \n",
       "10317.000021163     I do not have this condition   \n",
       "10317.000059006                      Unspecified   \n",
       "10317.000029448                   Self-diagnosed   \n",
       "\n",
       "                mental_illness_type_depression smoking_frequency case_control  \\\n",
       "#SampleID                                                                       \n",
       "10317.000049761                    Unspecified             Never  Unspecified   \n",
       "10317.000030322                    Unspecified             Never      control   \n",
       "10317.000028857                    Unspecified             Never      control   \n",
       "10317.000038189                    Unspecified             Never  Unspecified   \n",
       "10317.000036487                    Unspecified             Never      control   \n",
       "10317.000030166                    Unspecified             Never      control   \n",
       "10317.000023295                    Unspecified             Never      control   \n",
       "10317.000001589                    Unspecified             Never  Unspecified   \n",
       "10317.000030991                    Unspecified             Never      control   \n",
       "10317.000021163                    Unspecified             Never      control   \n",
       "10317.000059006                    Unspecified             Never  Unspecified   \n",
       "10317.000029448                    Unspecified             Never         case   \n",
       "\n",
       "                              matched to  \n",
       "#SampleID                                 \n",
       "10317.000049761                     none  \n",
       "10317.000030322          10317.000029448  \n",
       "10317.000028857                     none  \n",
       "10317.000038189                     none  \n",
       "10317.000036487                     none  \n",
       "10317.000030166                     none  \n",
       "10317.000023295                     none  \n",
       "10317.000001589                     none  \n",
       "10317.000030991                     none  \n",
       "10317.000021163                     none  \n",
       "10317.000059006                     none  \n",
       "10317.000029448  best match place holder  "
      ]
     },
     "execution_count": 11,
     "metadata": {},
     "output_type": "execute_result"
    }
   ],
   "source": [
    "masterDF = match_filteredDF.copy()\n",
    "\n",
    "inputDF = user_input_matchDF.copy()\n",
    "    \n",
    "rows_num , columns_num = inputDF.shape\n",
    "print('rows  = %s, columns = %s'%(rows_num, columns_num) )\n",
    "r_counter = 0\n",
    "c_counter = 0\n",
    "case_for_matchDF = masterDF[masterDF['case_control'].isin(['case'])]\n",
    "masterDF['matched to'] = 'none'\n",
    "matchDF = masterDF.copy()\n",
    "matchDF = matchDF[matchDF['case_control'].isin(['control'])]\n",
    "for index, row in case_for_matchDF.iterrows():\n",
    "    #print('index = %s\\nrow = %s' %( index, row))\n",
    "    while c_counter < columns_num:\n",
    "        column_name = inputDF.columns[c_counter]\n",
    "        print(column_name)\n",
    "        datatype = inputDF.iloc[0,c_counter]\n",
    "        if datatype == 'string':\n",
    "            matchDF = matchDF[matchDF[column_name].isin([ row[column_name] ]) ]\n",
    "            print('string')\n",
    "        if datatype == 'number':\n",
    "            matchDF = matchDF[\n",
    "                                ( pd.to_numeric(matchDF[column_name]) >= ( int(float(row[column_name])) - int(float(inputDF.iloc[1,c_counter])) ) ) \n",
    "                                &\n",
    "                                ( pd.to_numeric(matchDF[column_name]) <= ( int(float(row[column_name])) + int(float(inputDF.iloc[1,c_counter])) ) )\n",
    "                               ] \n",
    "            print('num')\n",
    "        c_counter = c_counter + 1\n",
    "    masterDF = match_to_master(masterDF, matchDF, index, row)\n",
    "\n",
    "#matchDF = masterDF.copy()\n",
    "masterDF"
   ]
  }
 ],
 "metadata": {
  "kernelspec": {
   "display_name": "Python 3",
   "language": "python",
   "name": "python3"
  },
  "language_info": {
   "codemirror_mode": {
    "name": "ipython",
    "version": 3
   },
   "file_extension": ".py",
   "mimetype": "text/x-python",
   "name": "python",
   "nbconvert_exporter": "python",
   "pygments_lexer": "ipython3",
   "version": "3.6.5"
  }
 },
 "nbformat": 4,
 "nbformat_minor": 2
}
